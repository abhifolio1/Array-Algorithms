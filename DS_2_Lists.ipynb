{
  "nbformat": 4,
  "nbformat_minor": 0,
  "metadata": {
    "colab": {
      "name": "DS-2:Lists.ipynb",
      "provenance": [],
      "collapsed_sections": [],
      "authorship_tag": "ABX9TyMCUIHTwi5Ukrpu/zapumxf",
      "include_colab_link": true
    },
    "kernelspec": {
      "name": "python3",
      "display_name": "Python 3"
    }
  },
  "cells": [
    {
      "cell_type": "markdown",
      "metadata": {
        "id": "view-in-github",
        "colab_type": "text"
      },
      "source": [
        "<a href=\"https://colab.research.google.com/github/MainakRepositor/Data-Structure/blob/master/DS_2_Lists.ipynb\" target=\"_parent\"><img src=\"https://colab.research.google.com/assets/colab-badge.svg\" alt=\"Open In Colab\"/></a>"
      ]
    },
    {
      "cell_type": "markdown",
      "metadata": {
        "id": "qDiFfPRLVAJL",
        "colab_type": "text"
      },
      "source": [
        "# CREATE A LIST"
      ]
    },
    {
      "cell_type": "code",
      "metadata": {
        "id": "HHreR7JIU4rk",
        "colab_type": "code",
        "colab": {
          "base_uri": "https://localhost:8080/",
          "height": 228
        },
        "outputId": "95d86ba8-283d-432f-e1a2-0b349f8e946b"
      },
      "source": [
        "# Python program to demonstrate \n",
        "# Creation of List \n",
        "\n",
        "# Creating a List \n",
        "List = [] \n",
        "print(\"Blank List: \") \n",
        "print(List) \n",
        "\n",
        "# Creating a List of numbers \n",
        "List = [10, 20, 14] \n",
        "print(\"\\nList of numbers: \") \n",
        "print(List) \n",
        "\n",
        "# Creating a List of strings and accessing \n",
        "# using index \n",
        "List = [\"Geeks\", \"For\", \"Geeks\"] \n",
        "print(\"\\nList Items: \") \n",
        "print(List[0]) \n",
        "print(List[2]) \n",
        "\n",
        "# Creating a Multi-Dimensional List \n",
        "# (By Nesting a list inside a List) \n",
        "List = [['Geeks', 'For'] , ['Geeks']] \n",
        "print(\"\\nMulti-Dimensional List: \") \n",
        "print(List) \n"
      ],
      "execution_count": 1,
      "outputs": [
        {
          "output_type": "stream",
          "text": [
            "Blank List: \n",
            "[]\n",
            "\n",
            "List of numbers: \n",
            "[10, 20, 14]\n",
            "\n",
            "List Items: \n",
            "Geeks\n",
            "Geeks\n",
            "\n",
            "Multi-Dimensional List: \n",
            "[['Geeks', 'For'], ['Geeks']]\n"
          ],
          "name": "stdout"
        }
      ]
    },
    {
      "cell_type": "markdown",
      "metadata": {
        "id": "H8ZF-vVqVNR-",
        "colab_type": "text"
      },
      "source": [
        "# LIST OF MIXED VALUES"
      ]
    },
    {
      "cell_type": "code",
      "metadata": {
        "id": "Gj1X7wZFVCY7",
        "colab_type": "code",
        "colab": {
          "base_uri": "https://localhost:8080/",
          "height": 122
        },
        "outputId": "84a8083b-10ef-46ba-f6cb-132d872454c2"
      },
      "source": [
        "# Creating a List with \n",
        "# the use of Numbers \n",
        "# (Having duplicate values) \n",
        "List = [1, 2, 4, 4, 3, 3, 3, 6, 5] \n",
        "print(\"\\nList with the use of Numbers: \") \n",
        "print(List) \n",
        "\n",
        "# Creating a List with \n",
        "# mixed type of values \n",
        "# (Having numbers and strings) \n",
        "List = [1, 2, 'Geeks', 4, 'For', 6, 'Geeks'] \n",
        "print(\"\\nList with the use of Mixed Values: \") \n",
        "print(List) \n"
      ],
      "execution_count": 2,
      "outputs": [
        {
          "output_type": "stream",
          "text": [
            "\n",
            "List with the use of Numbers: \n",
            "[1, 2, 4, 4, 3, 3, 3, 6, 5]\n",
            "\n",
            "List with the use of Mixed Values: \n",
            "[1, 2, 'Geeks', 4, 'For', 6, 'Geeks']\n"
          ],
          "name": "stdout"
        }
      ]
    },
    {
      "cell_type": "markdown",
      "metadata": {
        "id": "EIBNDwZaVUzV",
        "colab_type": "text"
      },
      "source": [
        "# LIST SIZE"
      ]
    },
    {
      "cell_type": "code",
      "metadata": {
        "id": "HWdyi2utVIpJ",
        "colab_type": "code",
        "colab": {
          "base_uri": "https://localhost:8080/",
          "height": 52
        },
        "outputId": "678982ce-21bf-4217-81fd-7909efee702a"
      },
      "source": [
        "# Creating a List \n",
        "List1 = [] \n",
        "print(len(List1)) \n",
        "\n",
        "# Creating a List of numbers \n",
        "List2 = [10, 20, 14] \n",
        "print(len(List2)) \n"
      ],
      "execution_count": 3,
      "outputs": [
        {
          "output_type": "stream",
          "text": [
            "0\n",
            "3\n"
          ],
          "name": "stdout"
        }
      ]
    },
    {
      "cell_type": "markdown",
      "metadata": {
        "id": "O-_NztGqVbmG",
        "colab_type": "text"
      },
      "source": [
        "# ADDING ELEMENTS TO LIST"
      ]
    },
    {
      "cell_type": "code",
      "metadata": {
        "id": "7jFWXt5CVTwx",
        "colab_type": "code",
        "colab": {
          "base_uri": "https://localhost:8080/",
          "height": 263
        },
        "outputId": "f1852fd0-2c75-4f70-8f0e-5a7e1f35a7bb"
      },
      "source": [
        "# Python program to demonstrate \n",
        "# Addition of elements in a List \n",
        "\n",
        "# Creating a List \n",
        "List = [] \n",
        "print(\"Initial blank List: \") \n",
        "print(List) \n",
        "\n",
        "# Addition of Elements \n",
        "# in the List \n",
        "List.append(1) \n",
        "List.append(2) \n",
        "List.append(4) \n",
        "print(\"\\nList after Addition of Three elements: \") \n",
        "print(List) \n",
        "\n",
        "# Adding elements to the List \n",
        "# using Iterator \n",
        "for i in range(1, 4): \n",
        "\tList.append(i) \n",
        "print(\"\\nList after Addition of elements from 1-3: \") \n",
        "print(List) \n",
        "\n",
        "# Adding Tuples to the List \n",
        "List.append((5, 6)) \n",
        "print(\"\\nList after Addition of a Tuple: \") \n",
        "print(List) \n",
        "\n",
        "# Addition of List to a List \n",
        "List2 = ['For', 'Geeks'] \n",
        "List.append(List2) \n",
        "print(\"\\nList after Addition of a List: \") \n",
        "print(List) \n"
      ],
      "execution_count": 4,
      "outputs": [
        {
          "output_type": "stream",
          "text": [
            "Initial blank List: \n",
            "[]\n",
            "\n",
            "List after Addition of Three elements: \n",
            "[1, 2, 4]\n",
            "\n",
            "List after Addition of elements from 1-3: \n",
            "[1, 2, 4, 1, 2, 3]\n",
            "\n",
            "List after Addition of a Tuple: \n",
            "[1, 2, 4, 1, 2, 3, (5, 6)]\n",
            "\n",
            "List after Addition of a List: \n",
            "[1, 2, 4, 1, 2, 3, (5, 6), ['For', 'Geeks']]\n"
          ],
          "name": "stdout"
        }
      ]
    },
    {
      "cell_type": "markdown",
      "metadata": {
        "id": "Q7uo8G_aVjiV",
        "colab_type": "text"
      },
      "source": [
        "# LIST INSERTION"
      ]
    },
    {
      "cell_type": "code",
      "metadata": {
        "id": "Cknj6LChVabP",
        "colab_type": "code",
        "colab": {
          "base_uri": "https://localhost:8080/",
          "height": 105
        },
        "outputId": "8e298ada-870c-4254-cf95-bbe89af89680"
      },
      "source": [
        "# Python program to demonstrate \n",
        "# Addition of elements in a List \n",
        "\n",
        "# Creating a List \n",
        "List = [1,2,3,4] \n",
        "print(\"Initial List: \") \n",
        "print(List) \n",
        "\n",
        "# Addition of Element at \n",
        "# specific Position \n",
        "# (using Insert Method) \n",
        "List.insert(3, 12) \n",
        "List.insert(0, 'Geeks') \n",
        "print(\"\\nList after performing Insert Operation: \") \n",
        "print(List) \n"
      ],
      "execution_count": 5,
      "outputs": [
        {
          "output_type": "stream",
          "text": [
            "Initial List: \n",
            "[1, 2, 3, 4]\n",
            "\n",
            "List after performing Insert Operation: \n",
            "['Geeks', 1, 2, 3, 12, 4]\n"
          ],
          "name": "stdout"
        }
      ]
    },
    {
      "cell_type": "markdown",
      "metadata": {
        "id": "t-9Q0MGOVuNp",
        "colab_type": "text"
      },
      "source": [
        "# ACCESSING LIST ELEMENTS"
      ]
    },
    {
      "cell_type": "code",
      "metadata": {
        "id": "zmjbvlz-VmYy",
        "colab_type": "code",
        "colab": {
          "base_uri": "https://localhost:8080/",
          "height": 122
        },
        "outputId": "c626c284-f983-4715-f98b-d9032e97280a"
      },
      "source": [
        "# Python program to demonstrate \n",
        "# accessing of element from list \n",
        "\n",
        "# Creating a List with \n",
        "# the use of multiple values \n",
        "List = [\"Geeks\", \"For\", \"Geeks\"] \n",
        "\n",
        "# accessing a element from the \n",
        "# list using index number \n",
        "print(\"Accessing a element from the list\") \n",
        "print(List[0]) \n",
        "print(List[2]) \n",
        "\n",
        "# Creating a Multi-Dimensional List \n",
        "# (By Nesting a list inside a List) \n",
        "List = [['Geeks', 'For'] , ['Geeks']] \n",
        "\n",
        "# accessing an element from the \n",
        "# Multi-Dimensional List using \n",
        "# index number \n",
        "print(\"Acessing a element from a Multi-Dimensional list\") \n",
        "print(List[0][1]) \n",
        "print(List[1][0]) \n"
      ],
      "execution_count": 6,
      "outputs": [
        {
          "output_type": "stream",
          "text": [
            "Accessing a element from the list\n",
            "Geeks\n",
            "Geeks\n",
            "Acessing a element from a Multi-Dimensional list\n",
            "For\n",
            "Geeks\n"
          ],
          "name": "stdout"
        }
      ]
    },
    {
      "cell_type": "markdown",
      "metadata": {
        "id": "A9d59hrSV1fj",
        "colab_type": "text"
      },
      "source": [
        "# NEGATIVE INDEXING"
      ]
    },
    {
      "cell_type": "code",
      "metadata": {
        "id": "RNAeMUH7Vwhd",
        "colab_type": "code",
        "colab": {
          "base_uri": "https://localhost:8080/",
          "height": 70
        },
        "outputId": "2c37239e-843a-459e-dac2-bb7188155b18"
      },
      "source": [
        "List = [1, 2, 'Geeks', 4, 'For', 6, 'Geeks'] \n",
        "\n",
        "# accessing a element using \n",
        "# negative indexing \n",
        "print(\"Accessing element using negative indexing\") \n",
        "\n",
        "# print the last element of list \n",
        "print(List[-1]) \n",
        "\n",
        "# print the third last element of list \n",
        "print(List[-3]) \n"
      ],
      "execution_count": 7,
      "outputs": [
        {
          "output_type": "stream",
          "text": [
            "Accessing element using negative indexing\n",
            "Geeks\n",
            "For\n"
          ],
          "name": "stdout"
        }
      ]
    },
    {
      "cell_type": "markdown",
      "metadata": {
        "id": "gNxlEGI5V8ZX",
        "colab_type": "text"
      },
      "source": [
        "# LIST ELEMENT DELETION"
      ]
    },
    {
      "cell_type": "code",
      "metadata": {
        "id": "imrJXnajV4Ba",
        "colab_type": "code",
        "colab": {
          "base_uri": "https://localhost:8080/",
          "height": 158
        },
        "outputId": "0c1edbbc-829b-44fa-f896-ea3429d6cb22"
      },
      "source": [
        "# Python program to demonstrate \n",
        "# Removal of elements in a List \n",
        "\n",
        "# Creating a List \n",
        "List = [1, 2, 3, 4, 5, 6, \n",
        "\t\t7, 8, 9, 10, 11, 12] \n",
        "print(\"Intial List: \") \n",
        "print(List) \n",
        "\n",
        "# Removing elements from List \n",
        "# using Remove() method \n",
        "List.remove(5) \n",
        "List.remove(6) \n",
        "print(\"\\nList after Removal of two elements: \") \n",
        "print(List) \n",
        "\n",
        "# Removing elements from List \n",
        "# using iterator method \n",
        "for i in range(1, 5): \n",
        "\tList.remove(i) \n",
        "print(\"\\nList after Removing a range of elements: \") \n",
        "print(List) \n"
      ],
      "execution_count": 8,
      "outputs": [
        {
          "output_type": "stream",
          "text": [
            "Intial List: \n",
            "[1, 2, 3, 4, 5, 6, 7, 8, 9, 10, 11, 12]\n",
            "\n",
            "List after Removal of two elements: \n",
            "[1, 2, 3, 4, 7, 8, 9, 10, 11, 12]\n",
            "\n",
            "List after Removing a range of elements: \n",
            "[7, 8, 9, 10, 11, 12]\n"
          ],
          "name": "stdout"
        }
      ]
    },
    {
      "cell_type": "markdown",
      "metadata": {
        "id": "2RhbJeHRWDai",
        "colab_type": "text"
      },
      "source": [
        "# DELETION BY POPPING"
      ]
    },
    {
      "cell_type": "code",
      "metadata": {
        "id": "7Zq6b3zbWASQ",
        "colab_type": "code",
        "colab": {
          "base_uri": "https://localhost:8080/",
          "height": 122
        },
        "outputId": "d12d6547-36b9-46ed-9cc2-a178f212fbbb"
      },
      "source": [
        "List = [1,2,3,4,5] \n",
        "\n",
        "# Removing element from the \n",
        "# Set using the pop() method \n",
        "List.pop() \n",
        "print(\"\\nList after popping an element: \") \n",
        "print(List) \n",
        "\n",
        "# Removing element at a \n",
        "# specific location from the \n",
        "# Set using the pop() method \n",
        "List.pop(2) \n",
        "print(\"\\nList after popping a specific element: \") \n",
        "print(List) \n"
      ],
      "execution_count": 9,
      "outputs": [
        {
          "output_type": "stream",
          "text": [
            "\n",
            "List after popping an element: \n",
            "[1, 2, 3, 4]\n",
            "\n",
            "List after popping a specific element: \n",
            "[1, 2, 4]\n"
          ],
          "name": "stdout"
        }
      ]
    },
    {
      "cell_type": "markdown",
      "metadata": {
        "id": "KBr4U9xBWLU5",
        "colab_type": "text"
      },
      "source": [
        "# SLICING LIST"
      ]
    },
    {
      "cell_type": "code",
      "metadata": {
        "id": "EFXpL3-ZWGKO",
        "colab_type": "code",
        "colab": {
          "base_uri": "https://localhost:8080/",
          "height": 210
        },
        "outputId": "3f87ac16-bb1f-4ab7-cbc3-665c9a4a5dee"
      },
      "source": [
        "# Python program to demonstrate \n",
        "# Removal of elements in a List \n",
        "\n",
        "# Creating a List \n",
        "List = ['G','E','E','K','S','F', \n",
        "\t\t'O','R','G','E','E','K','S'] \n",
        "print(\"Intial List: \") \n",
        "print(List) \n",
        "\n",
        "# Print elements of a range \n",
        "# using Slice operation \n",
        "Sliced_List = List[3:8] \n",
        "print(\"\\nSlicing elements in a range 3-8: \") \n",
        "print(Sliced_List) \n",
        "\n",
        "# Print elements from a \n",
        "# pre-defined point to end \n",
        "Sliced_List = List[5:] \n",
        "print(\"\\nElements sliced from 5th \"\n",
        "\t\"element till the end: \") \n",
        "print(Sliced_List) \n",
        "\n",
        "# Printing elements from \n",
        "# beginning till end \n",
        "Sliced_List = List[:] \n",
        "print(\"\\nPrinting all elements using slice operation: \") \n",
        "print(Sliced_List) \n"
      ],
      "execution_count": 10,
      "outputs": [
        {
          "output_type": "stream",
          "text": [
            "Intial List: \n",
            "['G', 'E', 'E', 'K', 'S', 'F', 'O', 'R', 'G', 'E', 'E', 'K', 'S']\n",
            "\n",
            "Slicing elements in a range 3-8: \n",
            "['K', 'S', 'F', 'O', 'R']\n",
            "\n",
            "Elements sliced from 5th element till the end: \n",
            "['F', 'O', 'R', 'G', 'E', 'E', 'K', 'S']\n",
            "\n",
            "Printing all elements using slice operation: \n",
            "['G', 'E', 'E', 'K', 'S', 'F', 'O', 'R', 'G', 'E', 'E', 'K', 'S']\n"
          ],
          "name": "stdout"
        }
      ]
    },
    {
      "cell_type": "markdown",
      "metadata": {
        "id": "y4aDYZACWR9w",
        "colab_type": "text"
      },
      "source": [
        "# NEGATIVE INDEX SLICING"
      ]
    },
    {
      "cell_type": "code",
      "metadata": {
        "id": "5vfUaFpWWN7-",
        "colab_type": "code",
        "colab": {
          "base_uri": "https://localhost:8080/",
          "height": 210
        },
        "outputId": "c15340f1-f0e5-43ac-8b9f-1b48f322c7b0"
      },
      "source": [
        "# Creating a List \n",
        "List = ['G','E','E','K','S','F', \n",
        "\t\t'O','R','G','E','E','K','S'] \n",
        "print(\"Initial List: \") \n",
        "print(List) \n",
        "\n",
        "# Print elements from beginning \n",
        "# to a pre-defined point using Slice \n",
        "Sliced_List = List[:-6] \n",
        "print(\"\\nElements sliced till 6th element from last: \") \n",
        "print(Sliced_List) \n",
        "\n",
        "# Print elements of a range \n",
        "# using negative index List slicing \n",
        "Sliced_List = List[-6:-1] \n",
        "print(\"\\nElements sliced from index -6 to -1\") \n",
        "print(Sliced_List) \n",
        "\n",
        "# Printing elements in reverse \n",
        "# using Slice operation \n",
        "Sliced_List = List[::-1] \n",
        "print(\"\\nPrinting List in reverse: \") \n",
        "print(Sliced_List) \n"
      ],
      "execution_count": 11,
      "outputs": [
        {
          "output_type": "stream",
          "text": [
            "Initial List: \n",
            "['G', 'E', 'E', 'K', 'S', 'F', 'O', 'R', 'G', 'E', 'E', 'K', 'S']\n",
            "\n",
            "Elements sliced till 6th element from last: \n",
            "['G', 'E', 'E', 'K', 'S', 'F', 'O']\n",
            "\n",
            "Elements sliced from index -6 to -1\n",
            "['R', 'G', 'E', 'E', 'K']\n",
            "\n",
            "Printing List in reverse: \n",
            "['S', 'K', 'E', 'E', 'G', 'R', 'O', 'F', 'S', 'K', 'E', 'E', 'G']\n"
          ],
          "name": "stdout"
        }
      ]
    },
    {
      "cell_type": "code",
      "metadata": {
        "id": "tAcKQLbOWUX9",
        "colab_type": "code",
        "colab": {}
      },
      "source": [
        ""
      ],
      "execution_count": null,
      "outputs": []
    }
  ]
}