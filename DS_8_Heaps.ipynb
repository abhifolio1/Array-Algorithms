{
  "nbformat": 4,
  "nbformat_minor": 0,
  "metadata": {
    "colab": {
      "name": "DS-8-Heaps.ipynb",
      "provenance": [],
      "authorship_tag": "ABX9TyOxMZWkrxZNiyCV6b/6Xy84",
      "include_colab_link": true
    },
    "kernelspec": {
      "name": "python3",
      "display_name": "Python 3"
    }
  },
  "cells": [
    {
      "cell_type": "markdown",
      "metadata": {
        "id": "view-in-github",
        "colab_type": "text"
      },
      "source": [
        "<a href=\"https://colab.research.google.com/github/MainakRepositor/Data-Structure/blob/master/DS_8_Heaps.ipynb\" target=\"_parent\"><img src=\"https://colab.research.google.com/assets/colab-badge.svg\" alt=\"Open In Colab\"/></a>"
      ]
    },
    {
      "cell_type": "code",
      "metadata": {
        "id": "O1GGe386qvu9",
        "colab_type": "code",
        "colab": {
          "base_uri": "https://localhost:8080/",
          "height": 70
        },
        "outputId": "0ed6713b-2573-41fd-cf8c-94869d2ae364"
      },
      "source": [
        "# importing \"heapq\" to implement heap queue \n",
        "import heapq \n",
        "\n",
        "# initializing list \n",
        "li = [5, 7, 9, 1, 3] \n",
        "\n",
        "# using heapify to convert list into heap \n",
        "heapq.heapify(li) \n",
        "\n",
        "# printing created heap \n",
        "print (\"The created heap is : \",end=\"\") \n",
        "print (list(li)) \n",
        "\n",
        "# using heappush() to push elements into heap \n",
        "# pushes 4 \n",
        "heapq.heappush(li,4) \n",
        "\n",
        "# printing modified heap \n",
        "print (\"The modified heap after push is : \",end=\"\") \n",
        "print (list(li)) \n",
        "\n",
        "# using heappop() to pop smallest element \n",
        "print (\"The popped and smallest element is : \",end=\"\") \n",
        "print (heapq.heappop(li)) \n"
      ],
      "execution_count": 1,
      "outputs": [
        {
          "output_type": "stream",
          "text": [
            "The created heap is : [1, 3, 9, 7, 5]\n",
            "The modified heap after push is : [1, 3, 4, 7, 5, 9]\n",
            "The popped and smallest element is : 1\n"
          ],
          "name": "stdout"
        }
      ]
    },
    {
      "cell_type": "code",
      "metadata": {
        "id": "RKKia43ortbb",
        "colab_type": "code",
        "colab": {
          "base_uri": "https://localhost:8080/",
          "height": 87
        },
        "outputId": "c660e02e-1e0c-4903-d5df-7b5d2422d1cb"
      },
      "source": [
        "# Python code to demonstrate working of \n",
        "# heappushpop() and heapreplce() \n",
        "\n",
        "# importing \"heapq\" to implement heap queue \n",
        "import heapq \n",
        "\n",
        "# initializing list 1 \n",
        "li1 = [5, 7, 9, 4, 3] \n",
        "\n",
        "# initializing list 2 \n",
        "li2 = [5, 7, 9, 4, 3] \n",
        "\n",
        "# using heapify() to convert list into heap \n",
        "a = heapq.heapify(li1) \n",
        "b = heapq.heapify(li2) \n",
        "\n",
        "# using heappushpop() to push and pop items simultaneously \n",
        "# pops 2 \n",
        "print (\"The popped item using heappushpop() is : \",end=\"\") \n",
        "print (heapq.heappushpop(li1, 2))  # It means pop 2 and push 2\n",
        "print(\"The heap now \",end=\"= \")\n",
        "print(li)\n",
        "# using heapreplace() to push and pop items simultaneously \n",
        "# pops 3 \n",
        "print (\"The popped item using heapreplace() is : \",end=\"\") \n",
        "print (heapq.heapreplace(li2, 2))  # It means pop 3 and push 2\n",
        "print(\"The heap now \",end=\"= \") \n",
        "print(li2)"
      ],
      "execution_count": 9,
      "outputs": [
        {
          "output_type": "stream",
          "text": [
            "The popped item using heappushpop() is : 2\n",
            "The heap now = [3, 5, 4, 7, 9]\n",
            "The popped item using heapreplace() is : 3\n",
            "The heap now = [2, 4, 9, 5, 7]\n"
          ],
          "name": "stdout"
        }
      ]
    },
    {
      "cell_type": "code",
      "metadata": {
        "id": "GOA48OVysKwH",
        "colab_type": "code",
        "colab": {}
      },
      "source": [
        ""
      ],
      "execution_count": null,
      "outputs": []
    }
  ]
}