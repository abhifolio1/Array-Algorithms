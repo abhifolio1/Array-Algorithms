{
  "nbformat": 4,
  "nbformat_minor": 0,
  "metadata": {
    "colab": {
      "name": "Linked List.ipynb",
      "provenance": [],
      "collapsed_sections": [],
      "authorship_tag": "ABX9TyNnUjELiEYcMKal5l2s8SNV",
      "include_colab_link": true
    },
    "kernelspec": {
      "name": "python3",
      "display_name": "Python 3"
    }
  },
  "cells": [
    {
      "cell_type": "markdown",
      "metadata": {
        "id": "view-in-github",
        "colab_type": "text"
      },
      "source": [
        "<a href=\"https://colab.research.google.com/github/MainakRepositor/Data-Structure/blob/master/DS_6_Linked_List.ipynb\" target=\"_parent\"><img src=\"https://colab.research.google.com/assets/colab-badge.svg\" alt=\"Open In Colab\"/></a>"
      ]
    },
    {
      "cell_type": "markdown",
      "metadata": {
        "id": "AWX7Fhekl6Dp",
        "colab_type": "text"
      },
      "source": [
        "# CREATING A LINKED LIST"
      ]
    },
    {
      "cell_type": "code",
      "metadata": {
        "id": "LBCweFGYlrNN",
        "colab_type": "code",
        "colab": {
          "base_uri": "https://localhost:8080/",
          "height": 34
        },
        "outputId": "25471b82-ea78-477e-ded8-7ff94488c42e"
      },
      "source": [
        "# Node class \n",
        "class Node: \n",
        "\n",
        "\t# Function to initialize the node object \n",
        "\tdef __init__(self, data): \n",
        "\t\tself.data = data # Assign data \n",
        "\t\tself.next = None # Initialize \n",
        "\t\t\t\t\t\t# next as null \n",
        "\n",
        "# Linked List class \n",
        "class LinkedList: \n",
        "\t\n",
        "\t# Function to initialize the Linked \n",
        "\t# List object \n",
        "\tdef __init__(self): \n",
        "\t\tself.head = None\n",
        "print(\"Linked list is created successfully !\")"
      ],
      "execution_count": 2,
      "outputs": [
        {
          "output_type": "stream",
          "text": [
            "Linked list is created successfully !\n"
          ],
          "name": "stdout"
        }
      ]
    },
    {
      "cell_type": "code",
      "metadata": {
        "id": "v81u5f4GmKR_",
        "colab_type": "code",
        "colab": {
          "base_uri": "https://localhost:8080/",
          "height": 70
        },
        "outputId": "d77d2539-146c-40c3-878a-f0d772a80b4b"
      },
      "source": [
        " # A simple Python program for traversal of a linked list \n",
        "\n",
        "# Node class \n",
        "class Node: \n",
        "\n",
        "\t# Function to initialise the node object \n",
        "\tdef __init__(self, data): \n",
        "\t\tself.data = data # Assign data \n",
        "\t\tself.next = None # Initialize next as null \n",
        "\n",
        "\n",
        "# Linked List class contains a Node object \n",
        "class LinkedList: \n",
        "\n",
        "\t# Function to initialize head \n",
        "\tdef __init__(self): \n",
        "\t\tself.head = None\n",
        "\n",
        "\t# This function prints contents of linked list \n",
        "\t# starting from head \n",
        "\tdef printList(self): \n",
        "\t\ttemp = self.head \n",
        "\t\twhile (temp): \n",
        "\t\t\tprint (temp.data) \n",
        "\t\t\ttemp = temp.next\n",
        "\n",
        "\n",
        "# Code execution starts here \n",
        "if __name__=='__main__': \n",
        "\n",
        "\t# Start with the empty list \n",
        "\tllist = LinkedList() \n",
        "\n",
        "\tllist.head = Node(1) \n",
        "\tsecond = Node(2) \n",
        "\tthird = Node(3) \n",
        "\n",
        "\tllist.head.next = second; # Link first node with second \n",
        "\tsecond.next = third; # Link second node with the third node \n",
        "\n",
        "\tllist.printList() \n"
      ],
      "execution_count": 8,
      "outputs": [
        {
          "output_type": "stream",
          "text": [
            "1\n",
            "2\n",
            "3\n"
          ],
          "name": "stdout"
        }
      ]
    },
    {
      "cell_type": "markdown",
      "metadata": {
        "id": "EfDzmtsim3UJ",
        "colab_type": "text"
      },
      "source": [
        "# CIRCULAR LINKED LIST"
      ]
    },
    {
      "cell_type": "code",
      "metadata": {
        "id": "9pZ0VQ-OmjZc",
        "colab_type": "code",
        "colab": {
          "base_uri": "https://localhost:8080/",
          "height": 105
        },
        "outputId": "76dd1dbd-0676-4ced-8024-fa0866b18966"
      },
      "source": [
        "# Python program to demonstrate \n",
        "# circular linked list traversal \n",
        "\n",
        "# Structure for a Node \n",
        "class Node: \n",
        "\t\n",
        "\t# Constructor to create a new node \n",
        "\tdef __init__(self, data): \n",
        "\t\tself.data = data \n",
        "\t\tself.next = None\n",
        "\n",
        "class CircularLinkedList: \n",
        "\t\n",
        "\t# Constructor to create a empty circular linked list \n",
        "\tdef __init__(self): \n",
        "\t\tself.head = None\n",
        "\n",
        "\t# Function to insert a node at the beginning of a \n",
        "\t# circular linked list \n",
        "\tdef push(self, data): \n",
        "\t\tptr1 = Node(data) \n",
        "\t\ttemp = self.head \n",
        "\t\t\n",
        "\t\tptr1.next = self.head \n",
        "\n",
        "\t\t# If linked list is not None then set the next of \n",
        "\t\t# last node \n",
        "\t\tif self.head is not None: \n",
        "\t\t\twhile(temp.next != self.head): \n",
        "\t\t\t\ttemp = temp.next\n",
        "\t\t\ttemp.next = ptr1 \n",
        "\n",
        "\t\telse: \n",
        "\t\t\tptr1.next = ptr1 # For the first node \n",
        "\n",
        "\t\tself.head = ptr1 \n",
        "\n",
        "\t# Function to print nodes in a given circular linked list \n",
        "\tdef printList(self): \n",
        "\t\ttemp = self.head \n",
        "\t\tif self.head is not None: \n",
        "\t\t\twhile(True): \n",
        "\t\t\t\tprint (\"%d\" %(temp.data)), \n",
        "\t\t\t\ttemp = temp.next\n",
        "\t\t\t\tif (temp == self.head): \n",
        "\t\t\t\t\tbreak\n",
        "\n",
        "\n",
        "# Driver program to test above function \n",
        "\n",
        "# Initialize list as empty \n",
        "cllist = CircularLinkedList() \n",
        "\n",
        "# Created linked list will be 11->2->56->12 \n",
        "cllist.push(12) \n",
        "cllist.push(56) \n",
        "cllist.push(2) \n",
        "cllist.push(11) \n",
        "\n",
        "print (\"Contents of circular Linked List\")\n",
        "cllist.printList() \n",
        "\t\t\t\n",
        "\n"
      ],
      "execution_count": 11,
      "outputs": [
        {
          "output_type": "stream",
          "text": [
            "Contents of circular Linked List\n",
            "11\n",
            "2\n",
            "56\n",
            "12\n"
          ],
          "name": "stdout"
        }
      ]
    },
    {
      "cell_type": "markdown",
      "metadata": {
        "id": "SLm-jOninYqX",
        "colab_type": "text"
      },
      "source": [
        "# SPLITTING CIRCULAR LINKED LIST INTO HALVES"
      ]
    },
    {
      "cell_type": "code",
      "metadata": {
        "id": "SOdxSvUsm52E",
        "colab_type": "code",
        "colab": {
          "base_uri": "https://localhost:8080/",
          "height": 246
        },
        "outputId": "699567fb-e782-46e7-fdcc-c1d863fde119"
      },
      "source": [
        "# Python program to split circular linked list into two halves \n",
        "\n",
        "# A node structure \n",
        "class Node: \n",
        "\t\n",
        "\t# Constructor to create a new node \n",
        "\tdef __init__(self, data): \n",
        "\t\tself.data = data \n",
        "\t\tself.next = None\n",
        "\n",
        "\n",
        "# Class to create a new Circular Linked list \n",
        "class CircularLinkedList: \n",
        "\t\n",
        "\t# Constructor to create a empty circular linked list \n",
        "\tdef __init__(self): \n",
        "\t\tself.head = None\n",
        "\n",
        "\t# Function to insert a node at the beginning of a \n",
        "\t# circular linked list \n",
        "\tdef push(self, data): \n",
        "\t\tptr1 = Node(data) \n",
        "\t\ttemp = self.head \n",
        "\t\t\n",
        "\t\tptr1.next = self.head \n",
        "\n",
        "\t\t# If linked list is not None then set the next of \n",
        "\t\t# last node \n",
        "\t\tif self.head is not None: \n",
        "\t\t\twhile(temp.next != self.head): \n",
        "\t\t\t\ttemp = temp.next\n",
        "\t\t\ttemp.next = ptr1 \n",
        "\n",
        "\t\telse: \n",
        "\t\t\tptr1.next = ptr1 # For the first node \n",
        "\n",
        "\t\tself.head = ptr1 \n",
        "\n",
        "\t# Function to print nodes in a given circular linked list \n",
        "\tdef printList(self): \n",
        "\t\ttemp = self.head \n",
        "\t\tif self.head is not None: \n",
        "\t\t\twhile(True): \n",
        "\t\t\t\tprint (\"%d\" %(temp.data)), \n",
        "\t\t\t\ttemp = temp.next\n",
        "\t\t\t\tif (temp == self.head): \n",
        "\t\t\t\t\tbreak\n",
        "\n",
        "\n",
        "\t# Function to split a list (starting with head) into \n",
        "\t# two lists. head1 and head2 are the head nodes of the \n",
        "\t# two resultant linked lists \n",
        "\tdef splitList(self, head1, head2): \n",
        "\t\tslow_ptr = self.head \n",
        "\t\tfast_ptr = self.head \n",
        "\t\n",
        "\t\tif self.head is None: \n",
        "\t\t\treturn\n",
        "\t\t\n",
        "\t\t# If htere are odd nodes in the circular list then \n",
        "\t\t# fast_ptr->next becomes head and for even nodes \n",
        "\t\t# fast_ptr->next->next becomes head \n",
        "\t\twhile(fast_ptr.next != self.head and\n",
        "\t\t\tfast_ptr.next.next != self.head ): \n",
        "\t\t\tfast_ptr = fast_ptr.next.next\n",
        "\t\t\tslow_ptr = slow_ptr.next\n",
        "\n",
        "\t\t# If there are even elements in list then \n",
        "\t\t# move fast_ptr \n",
        "\t\tif fast_ptr.next.next == self.head: \n",
        "\t\t\tfast_ptr = fast_ptr.next\n",
        "\n",
        "\t\t# Set the head pointer of first half \n",
        "\t\thead1.head = self.head \n",
        "\n",
        "\t\t# Set the head pointer of second half \n",
        "\t\tif self.head.next != self.head: \n",
        "\t\t\thead2.head = slow_ptr.next\n",
        "\n",
        "\t\t# Make second half circular \n",
        "\t\tfast_ptr.next = slow_ptr.next\n",
        "\t\n",
        "\t\t# Make first half circular \n",
        "\t\tslow_ptr.next = self.head \n",
        "\n",
        "\n",
        "# Driver program to test above functions \n",
        "\n",
        "# Initialize lists as empty \n",
        "head = CircularLinkedList() \n",
        "head1 = CircularLinkedList() \n",
        "head2 = CircularLinkedList() \n",
        "\n",
        "head.push(12) \n",
        "head.push(56) \n",
        "head.push(2) \n",
        "head.push(11) \n",
        "\n",
        "print (\"Original Circular Linked List\")\n",
        "head.printList() \n",
        "\n",
        "# Split the list \n",
        "head.splitList(head1 , head2) \n",
        "\n",
        "print (\"\\nFirst Circular Linked List\")\n",
        "head1.printList() \n",
        "\n",
        "print (\"\\nSecond Circular Linked List\")\n",
        "head2.printList() \n",
        "\n",
        "\n"
      ],
      "execution_count": 13,
      "outputs": [
        {
          "output_type": "stream",
          "text": [
            "Original Circular Linked List\n",
            "11\n",
            "2\n",
            "56\n",
            "12\n",
            "\n",
            "First Circular Linked List\n",
            "11\n",
            "2\n",
            "\n",
            "Second Circular Linked List\n",
            "56\n",
            "12\n"
          ],
          "name": "stdout"
        }
      ]
    },
    {
      "cell_type": "code",
      "metadata": {
        "id": "Oqb7SkklndNL",
        "colab_type": "code",
        "colab": {}
      },
      "source": [
        ""
      ],
      "execution_count": null,
      "outputs": []
    }
  ]
}