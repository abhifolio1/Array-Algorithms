{
  "nbformat": 4,
  "nbformat_minor": 0,
  "metadata": {
    "colab": {
      "name": "DS-7-Stacks.ipynb",
      "provenance": [],
      "authorship_tag": "ABX9TyNQefuIEiLO1fyqVzFYQvvn",
      "include_colab_link": true
    },
    "kernelspec": {
      "name": "python3",
      "display_name": "Python 3"
    }
  },
  "cells": [
    {
      "cell_type": "markdown",
      "metadata": {
        "id": "view-in-github",
        "colab_type": "text"
      },
      "source": [
        "<a href=\"https://colab.research.google.com/github/MainakRepositor/Data-Structure/blob/master/DS_7_Stacks.ipynb\" target=\"_parent\"><img src=\"https://colab.research.google.com/assets/colab-badge.svg\" alt=\"Open In Colab\"/></a>"
      ]
    },
    {
      "cell_type": "code",
      "metadata": {
        "id": "G-KuEDJhmlTw",
        "colab_type": "code",
        "colab": {
          "base_uri": "https://localhost:8080/",
          "height": 52
        },
        "outputId": "e99fd2b5-03c4-465f-a78b-eae842034456"
      },
      "source": [
        "st = []\n",
        "for i in range (1,11):\n",
        "  st.append(i)\n",
        "print(\"Initial stack\")\n",
        "print(st)"
      ],
      "execution_count": 5,
      "outputs": [
        {
          "output_type": "stream",
          "text": [
            "Initial stack\n",
            "[1, 2, 3, 4, 5, 6, 7, 8, 9, 10]\n"
          ],
          "name": "stdout"
        }
      ]
    },
    {
      "cell_type": "code",
      "metadata": {
        "id": "FXBG7PKhmq6y",
        "colab_type": "code",
        "colab": {
          "base_uri": "https://localhost:8080/",
          "height": 158
        },
        "outputId": "24c6e7f6-097c-4cf3-8a00-296de85ae2e1"
      },
      "source": [
        "print(\"Popping from a stack\")\n",
        "for i in range(5):\n",
        "  print(st.pop())\n",
        "print(\"Stack after pop\")\n",
        "print(st)\n"
      ],
      "execution_count": 6,
      "outputs": [
        {
          "output_type": "stream",
          "text": [
            "Popping from a stack\n",
            "10\n",
            "9\n",
            "8\n",
            "7\n",
            "6\n",
            "Stack after pop\n",
            "[1, 2, 3, 4, 5]\n"
          ],
          "name": "stdout"
        }
      ]
    },
    {
      "cell_type": "code",
      "metadata": {
        "id": "AhzmBbgEnRof",
        "colab_type": "code",
        "colab": {
          "base_uri": "https://localhost:8080/",
          "height": 34
        },
        "outputId": "e505e775-bad7-4f90-e76b-7174b5259174"
      },
      "source": [
        "# Using deque\n",
        "from collections import deque\n",
        "stack = deque()\n",
        "for i in range(1,21,2):\n",
        "  stack.append(i)\n",
        "print(\"The initial stack is :\", end=\" \")\n",
        "print(stack)"
      ],
      "execution_count": 7,
      "outputs": [
        {
          "output_type": "stream",
          "text": [
            "The initial stack is : deque([1, 3, 5, 7, 9, 11, 13, 15, 17, 19])\n"
          ],
          "name": "stdout"
        }
      ]
    },
    {
      "cell_type": "markdown",
      "metadata": {
        "id": "Cns_72PxpYxP",
        "colab_type": "text"
      },
      "source": [
        "Using LifoQueue"
      ]
    },
    {
      "cell_type": "code",
      "metadata": {
        "id": "XJPb6Dq1n4EK",
        "colab_type": "code",
        "colab": {
          "base_uri": "https://localhost:8080/",
          "height": 193
        },
        "outputId": "2cfec9c0-12ad-450f-b387-e5a1069ed775"
      },
      "source": [
        "from queue import LifoQueue \n",
        "\n",
        "# Initializing a stack \n",
        "stack = LifoQueue(maxsize = 3) \n",
        "\n",
        "# qsize() show the number of elements \n",
        "# in the stack \n",
        "print(\"Queue size is :\",stack.qsize()) \n",
        "\n",
        "# put() function to push \n",
        "# element in the stack \n",
        "stack.put('a') \n",
        "stack.put('b') \n",
        "stack.put('c') \n",
        "\n",
        "print(\"Full: \", stack.full()) \n",
        "print(\"Size: \", stack.qsize()) \n",
        "\n",
        "# get() fucntion to pop \n",
        "# element from stack in \n",
        "# LIFO order \n",
        "print('\\nElements poped from the stack') \n",
        "print(stack.get()) \n",
        "print(stack.get()) \n",
        "print(stack.get()) \n",
        "\n",
        "print(\"\\nEmpty: \", stack.empty()) \n"
      ],
      "execution_count": 12,
      "outputs": [
        {
          "output_type": "stream",
          "text": [
            "Queue size is : 0\n",
            "Full:  True\n",
            "Size:  3\n",
            "\n",
            "Elements poped from the stack\n",
            "c\n",
            "b\n",
            "a\n",
            "\n",
            "Empty:  True\n"
          ],
          "name": "stdout"
        }
      ]
    },
    {
      "cell_type": "code",
      "metadata": {
        "id": "ep2ta4mkoYms",
        "colab_type": "code",
        "colab": {}
      },
      "source": [
        ""
      ],
      "execution_count": null,
      "outputs": []
    }
  ]
}