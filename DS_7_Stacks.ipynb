{
  "nbformat": 4,
  "nbformat_minor": 0,
  "metadata": {
    "colab": {
      "name": "DS-7-Stacks.ipynb",
      "provenance": [],
      "collapsed_sections": [],
      "authorship_tag": "ABX9TyNZTgfJDqcrVPAuUhs/SnJ0",
      "include_colab_link": true
    },
    "kernelspec": {
      "name": "python3",
      "display_name": "Python 3"
    }
  },
  "cells": [
    {
      "cell_type": "markdown",
      "metadata": {
        "id": "view-in-github",
        "colab_type": "text"
      },
      "source": [
        "<a href=\"https://colab.research.google.com/github/MainakRepositor/Data-Structure/blob/master/DS_7_Stacks.ipynb\" target=\"_parent\"><img src=\"https://colab.research.google.com/assets/colab-badge.svg\" alt=\"Open In Colab\"/></a>"
      ]
    },
    {
      "cell_type": "markdown",
      "metadata": {
        "id": "CYgOVyE3SevH",
        "colab_type": "text"
      },
      "source": [
        "# STACK IMPLEMENTATION"
      ]
    },
    {
      "cell_type": "code",
      "metadata": {
        "id": "kVV2IXADSKFZ",
        "colab_type": "code",
        "colab": {
          "base_uri": "https://localhost:8080/",
          "height": 87
        },
        "outputId": "d51a2ea8-e6e2-49b3-f8a7-222a3dff2afb"
      },
      "source": [
        "# Python program for implementation of stack \n",
        "\n",
        "# import maxsize from sys module \n",
        "# Used to return -infinite when stack is empty \n",
        "from sys import maxsize \n",
        "\n",
        "# Function to create a stack. It initializes size of stack as 0 \n",
        "def createStack(): \n",
        "\tstack = [] \n",
        "\treturn stack \n",
        "\n",
        "# Stack is empty when stack size is 0 \n",
        "def isEmpty(stack): \n",
        "\treturn len(stack) == 0\n",
        "\n",
        "# Function to add an item to stack. It increases size by 1 \n",
        "def push(stack, item): \n",
        "\tstack.append(item) \n",
        "\tprint(item + \" pushed to stack \") \n",
        "\t\n",
        "# Function to remove an item from stack. It decreases size by 1 \n",
        "def pop(stack): \n",
        "\tif (isEmpty(stack)): \n",
        "\t\treturn str(-maxsize -1) # return minus infinite \n",
        "\t\n",
        "\treturn stack.pop() \n",
        "\n",
        "# Function to return the top from stack without removing it \n",
        "def peek(stack): \n",
        "\tif (isEmpty(stack)): \n",
        "\t\treturn str(-maxsize -1) # return minus infinite \n",
        "\treturn stack[len(stack) - 1] \n",
        "\n",
        "# Driver program to test above functions\t \n",
        "stack = createStack() \n",
        "push(stack, str(10)) \n",
        "push(stack, str(20)) \n",
        "push(stack, str(30)) \n",
        "print(pop(stack) + \" popped from stack\") \n"
      ],
      "execution_count": 1,
      "outputs": [
        {
          "output_type": "stream",
          "text": [
            "10 pushed to stack \n",
            "20 pushed to stack \n",
            "30 pushed to stack \n",
            "30 popped from stack\n"
          ],
          "name": "stdout"
        }
      ]
    },
    {
      "cell_type": "markdown",
      "metadata": {
        "id": "xz-LUQRTSnEa",
        "colab_type": "text"
      },
      "source": [
        "# STACK IMPLEMENTATION FROM A LINKED LIST"
      ]
    },
    {
      "cell_type": "code",
      "metadata": {
        "id": "MghGwKMDSiko",
        "colab_type": "code",
        "colab": {
          "base_uri": "https://localhost:8080/",
          "height": 105
        },
        "outputId": "e7e25e37-301f-430c-ed5e-3b2e9f9252c9"
      },
      "source": [
        "# Python program for linked list implementation of stack \n",
        "\n",
        "# Class to represent a node \n",
        "class StackNode: \n",
        "\n",
        "\t# Constructor to initialize a node \n",
        "\tdef __init__(self, data): \n",
        "\t\tself.data = data \n",
        "\t\tself.next = None\n",
        "\n",
        "class Stack: \n",
        "\t\n",
        "\t# Constructor to initialize the root of linked list \n",
        "\tdef __init__(self): \n",
        "\t\tself.root = None\n",
        "\n",
        "\tdef isEmpty(self): \n",
        "\t\treturn True if self.root is None else False\n",
        "\n",
        "\tdef push(self, data): \n",
        "\t\tnewNode = StackNode(data) \n",
        "\t\tnewNode.next = self.root \n",
        "\t\tself.root = newNode \n",
        "\t\tprint(\"% d pushed to stack\" %(data)) \n",
        "\t\n",
        "\tdef pop(self): \n",
        "\t\tif (self.isEmpty()): \n",
        "\t\t\treturn float(\"-inf\") \n",
        "\t\ttemp = self.root \n",
        "\t\tself.root = self.root.next\n",
        "\t\tpopped = temp.data \n",
        "\t\treturn popped \n",
        "\t\n",
        "\tdef peek(self): \n",
        "\t\tif self.isEmpty(): \n",
        "\t\t\treturn float(\"-inf\") \n",
        "\t\treturn self.root.data \n",
        "\n",
        "# Driver program to test above class \n",
        "stack = Stack() \n",
        "stack.push(10)\t\t \n",
        "stack.push(20) \n",
        "stack.push(30) \n",
        "\n",
        "print (\"% d popped from stack\" %(stack.pop())) \n",
        "print (\"Top element is % d \" %(stack.peek())) \n"
      ],
      "execution_count": 3,
      "outputs": [
        {
          "output_type": "stream",
          "text": [
            " 10 pushed to stack\n",
            " 20 pushed to stack\n",
            " 30 pushed to stack\n",
            " 30 popped from stack\n",
            "Top element is  20 \n"
          ],
          "name": "stdout"
        }
      ]
    },
    {
      "cell_type": "markdown",
      "metadata": {
        "id": "CmGfajnoTQ96",
        "colab_type": "text"
      },
      "source": [
        "# STACK POPPING"
      ]
    },
    {
      "cell_type": "code",
      "metadata": {
        "id": "qBay9SbpSrqy",
        "colab_type": "code",
        "colab": {
          "base_uri": "https://localhost:8080/",
          "height": 193
        },
        "outputId": "6e6f8693-b842-4cb1-a561-a2e163846814"
      },
      "source": [
        "# Python program to \n",
        "# demonstrate stack implementation \n",
        "# using list \n",
        "\n",
        "\n",
        "stack = [] \n",
        "\n",
        "# append() function to push \n",
        "# element in the stack \n",
        "stack.append('a') \n",
        "stack.append('b') \n",
        "stack.append('c') \n",
        "\n",
        "print('Initial stack') \n",
        "print(stack) \n",
        "\n",
        "# pop() fucntion to pop \n",
        "# element from stack in \n",
        "# LIFO order \n",
        "print('\\nElements poped from stack:') \n",
        "print(stack.pop()) \n",
        "print(stack.pop()) \n",
        "print(stack.pop()) \n",
        "\n",
        "print('\\nStack after elements are poped:') \n",
        "print(stack) \n",
        "\n",
        "# uncommenting print(stack.pop()) \n",
        "# will cause an IndexError \n",
        "# as the stack is now empty \n"
      ],
      "execution_count": 4,
      "outputs": [
        {
          "output_type": "stream",
          "text": [
            "Initial stack\n",
            "['a', 'b', 'c']\n",
            "\n",
            "Elements poped from stack:\n",
            "c\n",
            "b\n",
            "a\n",
            "\n",
            "Stack after elements are poped:\n",
            "[]\n"
          ],
          "name": "stdout"
        }
      ]
    },
    {
      "cell_type": "code",
      "metadata": {
        "id": "qUmnk2CjTS1e",
        "colab_type": "code",
        "colab": {}
      },
      "source": [
        ""
      ],
      "execution_count": null,
      "outputs": []
    }
  ]
}