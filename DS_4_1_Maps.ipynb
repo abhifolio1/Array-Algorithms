{
  "nbformat": 4,
  "nbformat_minor": 0,
  "metadata": {
    "colab": {
      "name": "DS_4.1_Maps.ipynb",
      "provenance": [],
      "authorship_tag": "ABX9TyPiDzJ0qYFUf+kQKRQnEn8d",
      "include_colab_link": true
    },
    "kernelspec": {
      "name": "python3",
      "display_name": "Python 3"
    }
  },
  "cells": [
    {
      "cell_type": "markdown",
      "metadata": {
        "id": "view-in-github",
        "colab_type": "text"
      },
      "source": [
        "<a href=\"https://colab.research.google.com/github/MainakRepositor/Data-Structure/blob/master/DS_4_1_Maps.ipynb\" target=\"_parent\"><img src=\"https://colab.research.google.com/assets/colab-badge.svg\" alt=\"Open In Colab\"/></a>"
      ]
    },
    {
      "cell_type": "markdown",
      "metadata": {
        "id": "6dkdmCGyIz_5",
        "colab_type": "text"
      },
      "source": [
        "# CREATING MAPS"
      ]
    },
    {
      "cell_type": "code",
      "metadata": {
        "id": "mcL5Lwd_Ie1g",
        "colab_type": "code",
        "colab": {
          "base_uri": "https://localhost:8080/",
          "height": 228
        },
        "outputId": "8d15aaf7-c7d4-4a10-dc8e-f86b94ccb004"
      },
      "source": [
        "import collections\n",
        "\n",
        "dict1 = {'day1': 'Mon', 'day2': 'Tue'}\n",
        "dict2 = {'day3': 'Wed', 'day1': 'Thu'}\n",
        "\n",
        "res = collections.ChainMap(dict1, dict2)\n",
        "\n",
        "# Creating a single dictionary\n",
        "print(res.maps,'\\n')\n",
        "\n",
        "print('Keys = {}'.format(list(res.keys())))\n",
        "print('Values = {}'.format(list(res.values())))\n",
        "print()\n",
        "\n",
        "# Print all the elements from the result\n",
        "print('elements:')\n",
        "for key, val in res.items():\n",
        "    print('{} = {}'.format(key, val))\n",
        "print()\n",
        "\n",
        "# Find a specific value in the result\n",
        "print('day3 in res: {}'.format(('day1' in res)))\n",
        "print('day4 in res: {}'.format(('day4' in res)))\n"
      ],
      "execution_count": 1,
      "outputs": [
        {
          "output_type": "stream",
          "text": [
            "[{'day1': 'Mon', 'day2': 'Tue'}, {'day3': 'Wed', 'day1': 'Thu'}] \n",
            "\n",
            "Keys = ['day2', 'day1', 'day3']\n",
            "Values = ['Tue', 'Mon', 'Wed']\n",
            "\n",
            "elements:\n",
            "day2 = Tue\n",
            "day1 = Mon\n",
            "day3 = Wed\n",
            "\n",
            "day3 in res: True\n",
            "day4 in res: False\n"
          ],
          "name": "stdout"
        }
      ]
    },
    {
      "cell_type": "markdown",
      "metadata": {
        "id": "NDUCmg-1I7Wo",
        "colab_type": "text"
      },
      "source": [
        "# MAP REORDERING"
      ]
    },
    {
      "cell_type": "code",
      "metadata": {
        "id": "7zjmlVcxIpbA",
        "colab_type": "code",
        "colab": {
          "base_uri": "https://localhost:8080/",
          "height": 87
        },
        "outputId": "7ba719b0-2046-48bb-b34c-39dddbb73754"
      },
      "source": [
        "import collections\n",
        "\n",
        "dict1 = {'day1': 'Mon', 'day2': 'Tue'}\n",
        "dict2 = {'day3': 'Wed', 'day4': 'Thu'}\n",
        "\n",
        "res1 = collections.ChainMap(dict1, dict2)\n",
        "\n",
        "print(res1.maps,'\\n')\n",
        "\n",
        "res2 = collections.ChainMap(dict2, dict1)\n",
        "\n",
        "print(res2.maps,'\\n')"
      ],
      "execution_count": 2,
      "outputs": [
        {
          "output_type": "stream",
          "text": [
            "[{'day1': 'Mon', 'day2': 'Tue'}, {'day3': 'Wed', 'day4': 'Thu'}] \n",
            "\n",
            "[{'day3': 'Wed', 'day4': 'Thu'}, {'day1': 'Mon', 'day2': 'Tue'}] \n",
            "\n"
          ],
          "name": "stdout"
        }
      ]
    },
    {
      "cell_type": "markdown",
      "metadata": {
        "id": "sHWf3NBuJDq-",
        "colab_type": "text"
      },
      "source": [
        "# UPDATING MAPS"
      ]
    },
    {
      "cell_type": "code",
      "metadata": {
        "id": "vtxgVjE6I9jL",
        "colab_type": "code",
        "colab": {
          "base_uri": "https://localhost:8080/",
          "height": 87
        },
        "outputId": "33e7a23e-59e7-4387-d28b-cd56e04ea4e4"
      },
      "source": [
        "import collections\n",
        "\n",
        "dict1 = {'day1': 'Mon', 'day2': 'Tue'}\n",
        "dict2 = {'day3': 'Wed', 'day4': 'Thu'}\n",
        "\n",
        "res = collections.ChainMap(dict1, dict2)\n",
        "\n",
        "print(res.maps,'\\n')\n",
        "\n",
        "dict2['day4'] = 'Fri'\n",
        "\n",
        "print(res.maps,'\\n')"
      ],
      "execution_count": 3,
      "outputs": [
        {
          "output_type": "stream",
          "text": [
            "[{'day1': 'Mon', 'day2': 'Tue'}, {'day3': 'Wed', 'day4': 'Thu'}] \n",
            "\n",
            "[{'day1': 'Mon', 'day2': 'Tue'}, {'day3': 'Wed', 'day4': 'Fri'}] \n",
            "\n"
          ],
          "name": "stdout"
        }
      ]
    },
    {
      "cell_type": "markdown",
      "metadata": {
        "id": "lGuHcTdbKaKw",
        "colab_type": "text"
      },
      "source": [
        "<h1><center><font color='green', size='10'>MAP FUNCTION</font></center></h1>"
      ]
    },
    {
      "cell_type": "code",
      "metadata": {
        "id": "P5vmHSUZJHEH",
        "colab_type": "code",
        "colab": {
          "base_uri": "https://localhost:8080/",
          "height": 34
        },
        "outputId": "eed6d668-8a24-408d-dbc7-e9f2fb781e64"
      },
      "source": [
        "# Python program to demonstrate working \n",
        "# of map. \n",
        "\n",
        "# Return double of n \n",
        "def addition(n): \n",
        "\treturn n + n \n",
        "\n",
        "# We double all numbers using map() \n",
        "numbers = (1, 2, 3, 4) \n",
        "result = map(addition, numbers) \n",
        "print(list(result)) \n"
      ],
      "execution_count": 4,
      "outputs": [
        {
          "output_type": "stream",
          "text": [
            "[2, 4, 6, 8]\n"
          ],
          "name": "stdout"
        }
      ]
    },
    {
      "cell_type": "markdown",
      "metadata": {
        "id": "sNoHebFCKwxj",
        "colab_type": "text"
      },
      "source": [
        "Returns a list of numbers"
      ]
    },
    {
      "cell_type": "markdown",
      "metadata": {
        "id": "0-Oq9rX3K7q7",
        "colab_type": "text"
      },
      "source": [
        "MAP USING LAMBDA FUNCTION"
      ]
    },
    {
      "cell_type": "code",
      "metadata": {
        "id": "KOFkuAE6Ku9p",
        "colab_type": "code",
        "colab": {
          "base_uri": "https://localhost:8080/",
          "height": 34
        },
        "outputId": "93580d25-fcac-4413-8793-5ff660df7730"
      },
      "source": [
        "# Double all numbers using map and lambda \n",
        "\n",
        "numbers = (1, 2, 3, 4) \n",
        "result = map(lambda x: x + x, numbers) \n",
        "print(list(result)) \n"
      ],
      "execution_count": 5,
      "outputs": [
        {
          "output_type": "stream",
          "text": [
            "[2, 4, 6, 8]\n"
          ],
          "name": "stdout"
        }
      ]
    },
    {
      "cell_type": "code",
      "metadata": {
        "id": "cmmnucWDK_uZ",
        "colab_type": "code",
        "colab": {
          "base_uri": "https://localhost:8080/",
          "height": 34
        },
        "outputId": "7a8b43a8-0425-40b0-e719-234512a468f7"
      },
      "source": [
        "# Add two lists using map and lambda \n",
        "\n",
        "numbers1 = [1, 2, 3] \n",
        "numbers2 = [4, 5, 6] \n",
        "\n",
        "result = map(lambda x, y: x + y, numbers1, numbers2) \n",
        "print(list(result)) \n"
      ],
      "execution_count": 6,
      "outputs": [
        {
          "output_type": "stream",
          "text": [
            "[5, 7, 9]\n"
          ],
          "name": "stdout"
        }
      ]
    },
    {
      "cell_type": "markdown",
      "metadata": {
        "id": "wZmBbLqaLNoV",
        "colab_type": "text"
      },
      "source": [
        "MAKES A LIST OF WORDS"
      ]
    },
    {
      "cell_type": "code",
      "metadata": {
        "id": "P7jQlMcULFGJ",
        "colab_type": "code",
        "colab": {
          "base_uri": "https://localhost:8080/",
          "height": 34
        },
        "outputId": "98c42569-d94e-4da3-bcff-8503465fdead"
      },
      "source": [
        "# List of strings \n",
        "l = ['sat', 'bat', 'cat', 'mat'] \n",
        "\n",
        "# map() can listify the list of strings individually \n",
        "test = list(map(list, l)) \n",
        "print(test) \n"
      ],
      "execution_count": 7,
      "outputs": [
        {
          "output_type": "stream",
          "text": [
            "[['s', 'a', 't'], ['b', 'a', 't'], ['c', 'a', 't'], ['m', 'a', 't']]\n"
          ],
          "name": "stdout"
        }
      ]
    },
    {
      "cell_type": "code",
      "metadata": {
        "id": "dgvZYBgnLI3O",
        "colab_type": "code",
        "colab": {}
      },
      "source": [
        ""
      ],
      "execution_count": null,
      "outputs": []
    }
  ]
}