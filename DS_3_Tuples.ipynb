{
  "nbformat": 4,
  "nbformat_minor": 0,
  "metadata": {
    "colab": {
      "name": "DS_3_Tuples.ipynb",
      "provenance": [],
      "authorship_tag": "ABX9TyNenn140ZoISXm30Z+Tsq1H",
      "include_colab_link": true
    },
    "kernelspec": {
      "name": "python3",
      "display_name": "Python 3"
    }
  },
  "cells": [
    {
      "cell_type": "markdown",
      "metadata": {
        "id": "view-in-github",
        "colab_type": "text"
      },
      "source": [
        "<a href=\"https://colab.research.google.com/github/MainakRepositor/Data-Structure/blob/master/DS_3_Tuples.ipynb\" target=\"_parent\"><img src=\"https://colab.research.google.com/assets/colab-badge.svg\" alt=\"Open In Colab\"/></a>"
      ]
    },
    {
      "cell_type": "markdown",
      "metadata": {
        "id": "YV1--Ml4XCqB",
        "colab_type": "text"
      },
      "source": [
        "# CREATING A TUPLE"
      ]
    },
    {
      "cell_type": "code",
      "metadata": {
        "id": "VASjFIdCW4LZ",
        "colab_type": "code",
        "colab": {
          "base_uri": "https://localhost:8080/",
          "height": 210
        },
        "outputId": "6dced47d-66c3-4d9a-e8a0-24aae7f67926"
      },
      "source": [
        "#Creating an empty Tuple \n",
        "Tuple1 = () \n",
        "print(\"Initial empty Tuple: \") \n",
        "print (Tuple1) \n",
        "\n",
        "#Creatting a Tuple \n",
        "#with the use of string \n",
        "Tuple1 = ('Geeks', 'For') \n",
        "print(\"\\nTuple with the use of String: \") \n",
        "print(Tuple1) \n",
        "\n",
        "# Creating a Tuple with \n",
        "# the use of list \n",
        "list1 = [1, 2, 4, 5, 6] \n",
        "print(\"\\nTuple using List: \") \n",
        "print(tuple(list1)) \n",
        "\n",
        "#Creating a Tuple \n",
        "#with the use of built-in function \n",
        "Tuple1 = tuple('Geeks') \n",
        "print(\"\\nTuple with the use of function: \") \n",
        "print(Tuple1) \n"
      ],
      "execution_count": 7,
      "outputs": [
        {
          "output_type": "stream",
          "text": [
            "Initial empty Tuple: \n",
            "()\n",
            "\n",
            "Tuple with the use of String: \n",
            "('Geeks', 'For')\n",
            "\n",
            "Tuple using List: \n",
            "(1, 2, 4, 5, 6)\n",
            "\n",
            "Tuple with the use of function: \n",
            "('G', 'e', 'e', 'k', 's')\n"
          ],
          "name": "stdout"
        }
      ]
    },
    {
      "cell_type": "markdown",
      "metadata": {
        "id": "uGmnOSGwXIm-",
        "colab_type": "text"
      },
      "source": [
        "# MIXED TUPLE"
      ]
    },
    {
      "cell_type": "code",
      "metadata": {
        "id": "I4Dbw6AbXFN8",
        "colab_type": "code",
        "colab": {
          "base_uri": "https://localhost:8080/",
          "height": 298
        },
        "outputId": "603d21e6-c2ff-42d1-fb2f-41571061b908"
      },
      "source": [
        "#Creating a Tuple \n",
        "#with Mixed Datatype \n",
        "Tuple1 = (5, 'Welcome', 7, 'Geeks') \n",
        "print(\"\\nTuple with Mixed Datatypes: \") \n",
        "print(Tuple1) \n",
        "\n",
        "#Creating a Tuple \n",
        "#with nested tuples \n",
        "Tuple1 = (0, 1, 2, 3) \n",
        "Tuple2 = ('python', 'geek') \n",
        "Tuple3 = (Tuple1, Tuple2) \n",
        "print(\"\\nTuple with nested tuples: \") \n",
        "print(Tuple3) \n",
        "\n",
        "#Creating a Tuple \n",
        "#with repetition \n",
        "Tuple1 = ('Geeks',) * 3\n",
        "print(\"\\nTuple with repetition: \") \n",
        "print(Tuple1) \n",
        "\n",
        "#Creating a Tuple \n",
        "#with the use of loop \n",
        "Tuple1 = ('Geeks') \n",
        "n = 5\n",
        "print(\"\\nTuple with a loop\") \n",
        "for i in range(int(n)): \n",
        "\tTuple1 = (Tuple1,) \n",
        "\tprint(Tuple1) \n"
      ],
      "execution_count": 2,
      "outputs": [
        {
          "output_type": "stream",
          "text": [
            "\n",
            "Tuple with Mixed Datatypes: \n",
            "(5, 'Welcome', 7, 'Geeks')\n",
            "\n",
            "Tuple with nested tuples: \n",
            "((0, 1, 2, 3), ('python', 'geek'))\n",
            "\n",
            "Tuple with repetition: \n",
            "('Geeks', 'Geeks', 'Geeks')\n",
            "\n",
            "Tuple with a loop\n",
            "('Geeks',)\n",
            "(('Geeks',),)\n",
            "((('Geeks',),),)\n",
            "(((('Geeks',),),),)\n",
            "((((('Geeks',),),),),)\n"
          ],
          "name": "stdout"
        }
      ]
    },
    {
      "cell_type": "markdown",
      "metadata": {
        "id": "BszOHgZzXQLd",
        "colab_type": "text"
      },
      "source": [
        "# ACCESSING TUPLE ELEMENTS"
      ]
    },
    {
      "cell_type": "code",
      "metadata": {
        "id": "gkSIpCHjXOwC",
        "colab_type": "code",
        "colab": {
          "base_uri": "https://localhost:8080/",
          "height": 158
        },
        "outputId": "e42eb1ea-841f-4795-9894-e803711f4a48"
      },
      "source": [
        "#Accessing Tuple \n",
        "#with Indexing \n",
        "Tuple1 = tuple(\"Geeks\") \n",
        "print(\"\\nFirst element of Tuple: \") \n",
        "print(Tuple1[1]) \n",
        "\n",
        "\n",
        "#Tuple unpacking \n",
        "Tuple1 = (\"Geeks\", \"For\", \"Geeks\") \n",
        "\n",
        "#This line unpack \n",
        "#values of Tuple1 \n",
        "a, b, c = Tuple1 \n",
        "print(\"\\nValues after unpacking: \") \n",
        "print(a) \n",
        "print(b) \n",
        "print(c) \n"
      ],
      "execution_count": 3,
      "outputs": [
        {
          "output_type": "stream",
          "text": [
            "\n",
            "First element of Tuple: \n",
            "e\n",
            "\n",
            "Values after unpacking: \n",
            "Geeks\n",
            "For\n",
            "Geeks\n"
          ],
          "name": "stdout"
        }
      ]
    },
    {
      "cell_type": "markdown",
      "metadata": {
        "id": "CW1qEAD1XdoK",
        "colab_type": "text"
      },
      "source": [
        "# TUPLE CONCATENATION"
      ]
    },
    {
      "cell_type": "code",
      "metadata": {
        "id": "P_TKfoyMXVCF",
        "colab_type": "code",
        "colab": {
          "base_uri": "https://localhost:8080/",
          "height": 158
        },
        "outputId": "f83736ad-bb4b-40bd-8ccb-53a4326911f9"
      },
      "source": [
        "# Concatenaton of tuples \n",
        "Tuple1 = (0, 1, 2, 3) \n",
        "Tuple2 = ('Geeks', 'For', 'Geeks') \n",
        "\n",
        "Tuple3 = Tuple1 + Tuple2 \n",
        "\n",
        "# Printing first Tuple \n",
        "print(\"Tuple 1: \") \n",
        "print(Tuple1) \n",
        "\n",
        "# Printing Second Tuple \n",
        "print(\"\\nTuple2: \") \n",
        "print(Tuple2) \n",
        "\n",
        "# Printing Final Tuple \n",
        "print(\"\\nTuples after Concatenaton: \") \n",
        "print(Tuple3) \n"
      ],
      "execution_count": 4,
      "outputs": [
        {
          "output_type": "stream",
          "text": [
            "Tuple 1: \n",
            "(0, 1, 2, 3)\n",
            "\n",
            "Tuple2: \n",
            "('Geeks', 'For', 'Geeks')\n",
            "\n",
            "Tuples after Concatenaton: \n",
            "(0, 1, 2, 3, 'Geeks', 'For', 'Geeks')\n"
          ],
          "name": "stdout"
        }
      ]
    },
    {
      "cell_type": "markdown",
      "metadata": {
        "id": "xSLPpgi6XmbI",
        "colab_type": "text"
      },
      "source": [
        "# SLICING TUPLE"
      ]
    },
    {
      "cell_type": "code",
      "metadata": {
        "id": "A7HPWu8pXh6h",
        "colab_type": "code",
        "colab": {
          "base_uri": "https://localhost:8080/",
          "height": 158
        },
        "outputId": "664fa6de-0f47-44a8-8c4d-7a8e53f3a12a"
      },
      "source": [
        "# Slicing of a Tuple \n",
        "\n",
        "# Slicing of a Tuple \n",
        "# with Numbers \n",
        "Tuple1 = tuple('GEEKSFORGEEKS') \n",
        "\n",
        "# Removing First element \n",
        "print(\"Removal of First Element: \") \n",
        "print(Tuple1[1:]) \n",
        "\n",
        "# Reversing the Tuple \n",
        "print(\"\\nTuple after sequence of Element is reversed: \") \n",
        "print(Tuple1[::-1]) \n",
        "\n",
        "# Printing elements of a Range \n",
        "print(\"\\nPrinting elements between Range 4-9: \") \n",
        "print(Tuple1[4:9]) \n"
      ],
      "execution_count": 5,
      "outputs": [
        {
          "output_type": "stream",
          "text": [
            "Removal of First Element: \n",
            "('E', 'E', 'K', 'S', 'F', 'O', 'R', 'G', 'E', 'E', 'K', 'S')\n",
            "\n",
            "Tuple after sequence of Element is reversed: \n",
            "('S', 'K', 'E', 'E', 'G', 'R', 'O', 'F', 'S', 'K', 'E', 'E', 'G')\n",
            "\n",
            "Printing elements between Range 4-9: \n",
            "('S', 'F', 'O', 'R', 'G')\n"
          ],
          "name": "stdout"
        }
      ]
    },
    {
      "cell_type": "markdown",
      "metadata": {
        "id": "zVZjp8joXrg9",
        "colab_type": "text"
      },
      "source": [
        "# TUPLE DELETION"
      ]
    },
    {
      "cell_type": "code",
      "metadata": {
        "id": "chkH4XxTXoS4",
        "colab_type": "code",
        "colab": {
          "base_uri": "https://localhost:8080/",
          "height": 202
        },
        "outputId": "62320bb0-e59a-4fe3-e6c9-97cb6f2f024c"
      },
      "source": [
        "# Deleting a Tuple \n",
        "\n",
        "Tuple1 = (0, 1, 2, 3, 4) \n",
        "del Tuple1 \n",
        "\n",
        "print(Tuple1) \n"
      ],
      "execution_count": 6,
      "outputs": [
        {
          "output_type": "error",
          "ename": "NameError",
          "evalue": "ignored",
          "traceback": [
            "\u001b[0;31m---------------------------------------------------------------------------\u001b[0m",
            "\u001b[0;31mNameError\u001b[0m                                 Traceback (most recent call last)",
            "\u001b[0;32m<ipython-input-6-68535e35d458>\u001b[0m in \u001b[0;36m<module>\u001b[0;34m()\u001b[0m\n\u001b[1;32m      4\u001b[0m \u001b[0;32mdel\u001b[0m \u001b[0mTuple1\u001b[0m\u001b[0;34m\u001b[0m\u001b[0;34m\u001b[0m\u001b[0m\n\u001b[1;32m      5\u001b[0m \u001b[0;34m\u001b[0m\u001b[0m\n\u001b[0;32m----> 6\u001b[0;31m \u001b[0mprint\u001b[0m\u001b[0;34m(\u001b[0m\u001b[0mTuple1\u001b[0m\u001b[0;34m)\u001b[0m\u001b[0;34m\u001b[0m\u001b[0;34m\u001b[0m\u001b[0m\n\u001b[0m",
            "\u001b[0;31mNameError\u001b[0m: name 'Tuple1' is not defined"
          ]
        }
      ]
    },
    {
      "cell_type": "code",
      "metadata": {
        "id": "dnBkZnJhXuAu",
        "colab_type": "code",
        "colab": {}
      },
      "source": [
        ""
      ],
      "execution_count": null,
      "outputs": []
    }
  ]
}