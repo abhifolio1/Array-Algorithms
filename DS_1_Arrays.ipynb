{
  "nbformat": 4,
  "nbformat_minor": 0,
  "metadata": {
    "colab": {
      "name": "DS-1:Arrays.ipynb",
      "provenance": [],
      "authorship_tag": "ABX9TyMYRRTYA7x45qvWFOm3lAcw",
      "include_colab_link": true
    },
    "kernelspec": {
      "name": "python3",
      "display_name": "Python 3"
    }
  },
  "cells": [
    {
      "cell_type": "markdown",
      "metadata": {
        "id": "view-in-github",
        "colab_type": "text"
      },
      "source": [
        "<a href=\"https://colab.research.google.com/github/MainakRepositor/Data-Structure/blob/master/DS_1_Arrays.ipynb\" target=\"_parent\"><img src=\"https://colab.research.google.com/assets/colab-badge.svg\" alt=\"Open In Colab\"/></a>"
      ]
    },
    {
      "cell_type": "markdown",
      "metadata": {
        "id": "4-Hi6h6lrylJ",
        "colab_type": "text"
      },
      "source": [
        "# ARRAYS"
      ]
    },
    {
      "cell_type": "code",
      "metadata": {
        "id": "4WAHHwywrvWU",
        "colab_type": "code",
        "colab": {
          "base_uri": "https://localhost:8080/",
          "height": 70
        },
        "outputId": "51aeab38-471c-43a1-9b08-a579736aa788"
      },
      "source": [
        "# Python program to demonstrate \n",
        "# Creation of Array \n",
        "\n",
        "# importing \"array\" for array creations \n",
        "import array as arr\n",
        "\n",
        "# creating an array with integer type \n",
        "a = arr.array('i', [1, 2, 3]) \n",
        "\n",
        "# printing original array \n",
        "print (\"The new created array is : \", end =\" \") \n",
        "for i in range (len(a)): \n",
        "\tprint (a[i], end =\" \") \n",
        "print() \n",
        "\n",
        "# creating an array with float type \n",
        "b = arr.array('d', [2.5, 3.2, 3.3]) \n",
        "\n",
        "# printing original array \n",
        "print (\"The new created array is : \", end =\" \") \n",
        "for i in range (0, 3): \n",
        "\tprint (b[i], end =\" \") \n",
        "print()\t\n",
        "# creating an array with char type \n",
        "c = arr.array('u', ['a','b','c']) \n",
        "\n",
        "# printing original array \n",
        "print (\"The new created array is : \", end =\" \") \n",
        "for i in range (0, 3): \n",
        "\tprint (c[i], end =\" \") \n"
      ],
      "execution_count": null,
      "outputs": [
        {
          "output_type": "stream",
          "text": [
            "The new created array is :  1 2 3 \n",
            "The new created array is :  2.5 3.2 3.3 \n",
            "The new created array is :  a b c "
          ],
          "name": "stdout"
        }
      ]
    },
    {
      "cell_type": "code",
      "metadata": {
        "id": "VZbT8bWisIhz",
        "colab_type": "code",
        "colab": {
          "base_uri": "https://localhost:8080/",
          "height": 34
        },
        "outputId": "5e247e8e-2b31-4820-bf7b-e31a2357e54d"
      },
      "source": [
        "from array import*\n",
        "arr = array('i',[10,20,30,40,50,60,70,80,90,100])\n",
        "for x in arr:\n",
        "  print(x,end=\" \")"
      ],
      "execution_count": null,
      "outputs": [
        {
          "output_type": "stream",
          "text": [
            "10 20 30 40 50 60 70 80 90 100 "
          ],
          "name": "stdout"
        }
      ]
    },
    {
      "cell_type": "markdown",
      "metadata": {
        "id": "FOdDwUWA0c-_",
        "colab_type": "text"
      },
      "source": [
        "# ARRAY INSERTION"
      ]
    },
    {
      "cell_type": "code",
      "metadata": {
        "id": "Sxj0Q7zcs7a2",
        "colab_type": "code",
        "colab": {
          "base_uri": "https://localhost:8080/",
          "height": 87
        },
        "outputId": "15c182b8-ae05-4272-bb18-aadd77acc0aa"
      },
      "source": [
        "# Python program to demonstrate \n",
        "# Adding Elements to a Array \n",
        "\n",
        "# importing \"array\" for array creations \n",
        "import array as arr \n",
        "\n",
        "# array with int type \n",
        "a = arr.array('i', [1, 2, 3]) \n",
        "\n",
        "\n",
        "print (\"Array before insertion : \", end =\" \") \n",
        "for i in range (0, 3): \n",
        "\tprint (a[i], end =\" \") \n",
        "print() \n",
        "\n",
        "# inserting array using \n",
        "# insert() function \n",
        "a.insert(1, 4) \n",
        "\n",
        "print (\"Array after insertion : \", end =\" \") \n",
        "for i in (a): \n",
        "\tprint (i, end =\" \") \n",
        "print() \n",
        "\n",
        "# array with float type \n",
        "b = arr.array('d', [2.5, 3.2, 3.3]) \n",
        "\n",
        "print (\"Array before insertion : \", end =\" \") \n",
        "for i in range (0, 3): \n",
        "\tprint (b[i], end =\" \") \n",
        "print() \n",
        "\n",
        "# adding an element using append() \n",
        "b.append(4.4) \n",
        "\n",
        "print (\"Array after insertion : \", end =\" \") \n",
        "for i in (b): \n",
        "\tprint (i, end =\" \") \n",
        "print() \n"
      ],
      "execution_count": null,
      "outputs": [
        {
          "output_type": "stream",
          "text": [
            "Array before insertion :  1 2 3 \n",
            "Array after insertion :  1 4 2 3 \n",
            "Array before insertion :  2.5 3.2 3.3 \n",
            "Array after insertion :  2.5 3.2 3.3 4.4 \n"
          ],
          "name": "stdout"
        }
      ]
    },
    {
      "cell_type": "markdown",
      "metadata": {
        "id": "duHHPPwq1iT7",
        "colab_type": "text"
      },
      "source": [
        "# SEARCHING AND ACCESSING ELEMENT"
      ]
    },
    {
      "cell_type": "code",
      "metadata": {
        "id": "1YCp6FeG0f_H",
        "colab_type": "code",
        "colab": {
          "base_uri": "https://localhost:8080/",
          "height": 87
        },
        "outputId": "eee644fe-81dd-409f-cf6c-84a91854f856"
      },
      "source": [
        "# Python program to demonstrate \n",
        "# accessing of element from list \n",
        "\n",
        "# importing array module \n",
        "import array as arr \n",
        "\n",
        "# array with int type \n",
        "a = arr.array('i', [1, 2, 3, 4, 5, 6]) \n",
        "\n",
        "# accessing element of array \n",
        "print(\"Access element is: \", a[0]) \n",
        "\n",
        "# accessing element of array \n",
        "print(\"Access element is: \", a[3]) \n",
        "\n",
        "# array with float type \n",
        "b = arr.array('d', [2.5, 3.2, 3.3]) \n",
        "\n",
        "# accessing element of array \n",
        "print(\"Access element is: \", b[1]) \n",
        "\n",
        "# accessing element of array \n",
        "print(\"Access element is: \", b[2]) \n"
      ],
      "execution_count": null,
      "outputs": [
        {
          "output_type": "stream",
          "text": [
            "Access element is:  1\n",
            "Access element is:  4\n",
            "Access element is:  3.2\n",
            "Access element is:  3.3\n"
          ],
          "name": "stdout"
        }
      ]
    },
    {
      "cell_type": "markdown",
      "metadata": {
        "id": "cm4B09NX16ax",
        "colab_type": "text"
      },
      "source": [
        "# ARRAY DELETION"
      ]
    },
    {
      "cell_type": "code",
      "metadata": {
        "id": "8HxNn_h61rUo",
        "colab_type": "code",
        "colab": {
          "base_uri": "https://localhost:8080/",
          "height": 87
        },
        "outputId": "6e8ff152-425d-4718-f229-78ab634059ff"
      },
      "source": [
        "# Python program to demonstrate \n",
        "# Removal of elements in a Array \n",
        "\n",
        "# importing \"array\" for array operations \n",
        "import array \n",
        "\n",
        "# initializing array with array values \n",
        "# initializes array with signed integers \n",
        "arr = array.array('i', [1, 2, 3, 1, 5]) \n",
        "\n",
        "# printing original array \n",
        "print (\"The new created array is : \", end =\"\") \n",
        "for i in range (0, 5): \n",
        "\tprint (arr[i], end =\" \") \n",
        "\n",
        "print (\"\\r\") \n",
        "\n",
        "# using pop() to remove element at 2nd position \n",
        "print (\"The popped element is : \", end =\"\") \n",
        "print (arr.pop(2)) \n",
        "\n",
        "# printing array after popping \n",
        "print (\"The array after popping is : \", end =\"\") \n",
        "for i in range (0, 4): \n",
        "\tprint (arr[i], end =\" \") \n",
        "\n",
        "print(\"\\r\") \n",
        "\n",
        "# using remove() to remove 1st occurrence of 1 \n",
        "arr.remove(1) \n",
        "\n",
        "# printing array after removing \n",
        "print (\"The array after removing is : \", end =\"\") \n",
        "for i in range (0, 3): \n",
        "\tprint (arr[i], end =\" \") \n"
      ],
      "execution_count": null,
      "outputs": [
        {
          "output_type": "stream",
          "text": [
            "The new created array is : 1 2 3 1 5 \r\n",
            "The popped element is : 3\n",
            "The array after popping is : 1 2 1 5 \r\n",
            "The array after removing is : 2 1 5 "
          ],
          "name": "stdout"
        }
      ]
    },
    {
      "cell_type": "markdown",
      "metadata": {
        "id": "EAilZ-CE2D20",
        "colab_type": "text"
      },
      "source": [
        "# ARRAY SLICING"
      ]
    },
    {
      "cell_type": "code",
      "metadata": {
        "id": "L4pNkWQE15C2",
        "colab_type": "code",
        "colab": {
          "base_uri": "https://localhost:8080/",
          "height": 193
        },
        "outputId": "dbf2b0ec-f635-4a84-da15-edac06f58d40"
      },
      "source": [
        "# Python program to demonstrate \n",
        "# silicing of elements in a Array \n",
        "\n",
        "# importing array module \n",
        "import array as arr \n",
        "\n",
        "# creating a list \n",
        "l = [1, 2, 3, 4, 5, 6, 7, 8, 9, 10] \n",
        "\n",
        "a = arr.array('i', l) \n",
        "print(\"Intial Array: \") \n",
        "for i in (a): \n",
        "\tprint(i, end =\" \") \n",
        "\n",
        "# Print elements of a range \n",
        "# using Slice operation \n",
        "Sliced_array = a[3:8] \n",
        "print(\"\\nSlicing elements in a range 3-8: \") \n",
        "print(Sliced_array) \n",
        "\n",
        "# Print elements from a \n",
        "# pre-defined point to end \n",
        "Sliced_array = a[5:] \n",
        "print(\"\\nElements sliced from 5th \"\n",
        "\t\"element till the end: \") \n",
        "print(Sliced_array) \n",
        "\n",
        "# Printing elements from \n",
        "# beginning till end \n",
        "Sliced_array = a[:] \n",
        "print(\"\\nPrinting all elements using slice operation: \") \n",
        "print(Sliced_array) \n"
      ],
      "execution_count": null,
      "outputs": [
        {
          "output_type": "stream",
          "text": [
            "Intial Array: \n",
            "1 2 3 4 5 6 7 8 9 10 \n",
            "Slicing elements in a range 3-8: \n",
            "array('i', [4, 5, 6, 7, 8])\n",
            "\n",
            "Elements sliced from 5th element till the end: \n",
            "array('i', [6, 7, 8, 9, 10])\n",
            "\n",
            "Printing all elements using slice operation: \n",
            "array('i', [1, 2, 3, 4, 5, 6, 7, 8, 9, 10])\n"
          ],
          "name": "stdout"
        }
      ]
    },
    {
      "cell_type": "markdown",
      "metadata": {
        "id": "WWfGjx-n2UV6",
        "colab_type": "text"
      },
      "source": [
        "# ELEMENT SEARCH BY INDEX"
      ]
    },
    {
      "cell_type": "code",
      "metadata": {
        "id": "HFKjmsMV2AUh",
        "colab_type": "code",
        "colab": {
          "base_uri": "https://localhost:8080/",
          "height": 70
        },
        "outputId": "4a1ecc0d-00ea-4cf9-b331-c2679eaa603d"
      },
      "source": [
        "# Python code to demonstrate \n",
        "# searching an element in array \n",
        "\n",
        "\n",
        "# importing array module \n",
        "import array \n",
        "\n",
        "# initializing array with array values \n",
        "# initializes array with signed integers \n",
        "arr = array.array('i', [1, 2, 3, 1, 2, 5]) \n",
        "\n",
        "# printing original array \n",
        "print (\"The new created array is : \", end =\"\") \n",
        "for i in range (0, 6): \n",
        "\tprint (arr[i], end =\" \") \n",
        "\n",
        "print (\"\\r\") \n",
        "\n",
        "# using index() to print index of 1st occurrenece of 2 \n",
        "print (\"The index of 1st occurrence of 2 is : \", end =\"\") \n",
        "print (arr.index(2)) \n",
        "\n",
        "# using index() to print index of 1st occurrenece of 1 \n",
        "print (\"The index of 1st occurrence of 1 is : \", end =\"\") \n",
        "print (arr.index(1)) \n"
      ],
      "execution_count": null,
      "outputs": [
        {
          "output_type": "stream",
          "text": [
            "The new created array is : 1 2 3 1 2 5 \r\n",
            "The index of 1st occurrence of 2 is : 1\n",
            "The index of 1st occurrence of 1 is : 0\n"
          ],
          "name": "stdout"
        }
      ]
    },
    {
      "cell_type": "markdown",
      "metadata": {
        "id": "qa01FWt12tMu",
        "colab_type": "text"
      },
      "source": [
        "# ARRAY UPDATION"
      ]
    },
    {
      "cell_type": "code",
      "metadata": {
        "id": "011aNn5a2rCr",
        "colab_type": "code",
        "colab": {
          "base_uri": "https://localhost:8080/",
          "height": 70
        },
        "outputId": "784be806-14d7-4bdb-d97b-8c9272e5d874"
      },
      "source": [
        "# Python code to demonstrate \n",
        "# how to update an element in array \n",
        "\n",
        "# importing array module \n",
        "import array \n",
        "\n",
        "# initializing array with array values \n",
        "# initializes array with signed integers \n",
        "arr = array.array('i', [1, 2, 3, 1, 2, 5]) \n",
        "\n",
        "# printing original array \n",
        "print (\"Array before updation : \", end =\"\") \n",
        "for i in range (0, 6): \n",
        "\tprint (arr[i], end =\" \") \n",
        "\n",
        "print (\"\\r\") \n",
        "\n",
        "# updating a element in a array \n",
        "arr[2] = 6\n",
        "print(\"Array after updation : \", end =\"\") \n",
        "for i in range (0, 6): \n",
        "\tprint (arr[i], end =\" \") \n",
        "print() \n",
        "\n",
        "# updating a element in a array \n",
        "arr[4] = 8\n",
        "print(\"Array after updation : \", end =\"\") \n",
        "for i in range (0, 6): \n",
        "\tprint (arr[i], end =\" \") \n"
      ],
      "execution_count": null,
      "outputs": [
        {
          "output_type": "stream",
          "text": [
            "Array before updation : 1 2 3 1 2 5 \r\n",
            "Array after updation : 1 2 6 1 2 5 \n",
            "Array after updation : 1 2 6 1 8 5 "
          ],
          "name": "stdout"
        }
      ]
    },
    {
      "cell_type": "code",
      "metadata": {
        "id": "LNNkQxKw2sHo",
        "colab_type": "code",
        "colab": {}
      },
      "source": [
        ""
      ],
      "execution_count": null,
      "outputs": []
    }
  ]
}