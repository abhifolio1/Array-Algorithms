{
  "nbformat": 4,
  "nbformat_minor": 0,
  "metadata": {
    "colab": {
      "name": "DS_4_Sets.ipynb",
      "provenance": [],
      "authorship_tag": "ABX9TyPNVV94QNomrM+eBCQqF+CH",
      "include_colab_link": true
    },
    "kernelspec": {
      "name": "python3",
      "display_name": "Python 3"
    }
  },
  "cells": [
    {
      "cell_type": "markdown",
      "metadata": {
        "id": "view-in-github",
        "colab_type": "text"
      },
      "source": [
        "<a href=\"https://colab.research.google.com/github/MainakRepositor/Data-Structure/blob/master/DS_4_Sets.ipynb\" target=\"_parent\"><img src=\"https://colab.research.google.com/assets/colab-badge.svg\" alt=\"Open In Colab\"/></a>"
      ]
    },
    {
      "cell_type": "markdown",
      "metadata": {
        "id": "6DxoLKaWYg-k",
        "colab_type": "text"
      },
      "source": [
        "# CREATING A SET"
      ]
    },
    {
      "cell_type": "code",
      "metadata": {
        "id": "8DJEOAFXYcQg",
        "colab_type": "code",
        "colab": {
          "base_uri": "https://localhost:8080/",
          "height": 210
        },
        "outputId": "0fbf27c3-5227-4314-fb06-948ed278630b"
      },
      "source": [
        "# Python program to demonstrate \n",
        "# Creation of Set in Python \n",
        "\n",
        "# Creating a Set \n",
        "set1 = set() \n",
        "print(\"Intial blank Set: \") \n",
        "print(set1) \n",
        "\n",
        "# Creating a Set with \n",
        "# the use of a String \n",
        "set1 = set(\"GeeksForGeeks\") \n",
        "print(\"\\nSet with the use of String: \") \n",
        "print(set1) \n",
        "\n",
        "# Creating a Set with \n",
        "# the use of Constructor \n",
        "# (Using object to Store String) \n",
        "String = 'GeeksForGeeks'\n",
        "set1 = set(String) \n",
        "print(\"\\nSet with the use of an Object: \" ) \n",
        "print(set1) \n",
        "\n",
        "# Creating a Set with \n",
        "# the use of a List \n",
        "set1 = set([\"Geeks\", \"For\", \"Geeks\"]) \n",
        "print(\"\\nSet with the use of List: \") \n",
        "print(set1) \n"
      ],
      "execution_count": 1,
      "outputs": [
        {
          "output_type": "stream",
          "text": [
            "Intial blank Set: \n",
            "set()\n",
            "\n",
            "Set with the use of String: \n",
            "{'F', 'k', 'r', 'e', 's', 'o', 'G'}\n",
            "\n",
            "Set with the use of an Object: \n",
            "{'F', 'k', 'r', 'e', 's', 'o', 'G'}\n",
            "\n",
            "Set with the use of List: \n",
            "{'For', 'Geeks'}\n"
          ],
          "name": "stdout"
        }
      ]
    },
    {
      "cell_type": "markdown",
      "metadata": {
        "id": "Hh2aAogHYsN7",
        "colab_type": "text"
      },
      "source": [
        "# MIXED SET"
      ]
    },
    {
      "cell_type": "code",
      "metadata": {
        "id": "VUH5VxFmYkw-",
        "colab_type": "code",
        "colab": {
          "base_uri": "https://localhost:8080/",
          "height": 122
        },
        "outputId": "78a0c7ba-99e2-46bc-e42a-b1c2c4615706"
      },
      "source": [
        "# Creating a Set with \n",
        "# a List of Numbers \n",
        "# (Having duplicate values) \n",
        "set1 = set([1, 2, 4, 4, 3, 3, 3, 6, 5]) \n",
        "print(\"\\nSet with the use of Numbers: \") \n",
        "print(set1) \n",
        "\n",
        "# Creating a Set with \n",
        "# a mixed type of values \n",
        "# (Having numbers and strings) \n",
        "set1 = set([1, 2, 'Geeks', 4, 'For', 6, 'Geeks']) \n",
        "print(\"\\nSet with the use of Mixed Values\") \n",
        "print(set1) \n"
      ],
      "execution_count": 2,
      "outputs": [
        {
          "output_type": "stream",
          "text": [
            "\n",
            "Set with the use of Numbers: \n",
            "{1, 2, 3, 4, 5, 6}\n",
            "\n",
            "Set with the use of Mixed Values\n",
            "{1, 2, 4, 6, 'For', 'Geeks'}\n"
          ],
          "name": "stdout"
        }
      ]
    },
    {
      "cell_type": "markdown",
      "metadata": {
        "id": "bnhSTrV3YuMt",
        "colab_type": "text"
      },
      "source": [
        "# ADDING ELEMENTS TO SET"
      ]
    },
    {
      "cell_type": "code",
      "metadata": {
        "id": "IkZEsft-Yqid",
        "colab_type": "code",
        "colab": {
          "base_uri": "https://localhost:8080/",
          "height": 158
        },
        "outputId": "d018e22b-901f-4e69-a75a-0cf2b99e452f"
      },
      "source": [
        "# Python program to demonstrate \n",
        "# Addition of elements in a Set \n",
        "\n",
        "# Creating a Set \n",
        "set1 = set() \n",
        "print(\"Intial blank Set: \") \n",
        "print(set1) \n",
        "\n",
        "# Adding element and tuple to the Set \n",
        "set1.add(8) \n",
        "set1.add(9) \n",
        "set1.add((6,7)) \n",
        "print(\"\\nSet after Addition of Three elements: \") \n",
        "print(set1) \n",
        "\n",
        "# Adding elements to the Set \n",
        "# using Iterator \n",
        "for i in range(1, 6): \n",
        "\tset1.add(i) \n",
        "print(\"\\nSet after Addition of elements from 1-5: \") \n",
        "print(set1) \n"
      ],
      "execution_count": 3,
      "outputs": [
        {
          "output_type": "stream",
          "text": [
            "Intial blank Set: \n",
            "set()\n",
            "\n",
            "Set after Addition of Three elements: \n",
            "{8, 9, (6, 7)}\n",
            "\n",
            "Set after Addition of elements from 1-5: \n",
            "{1, 2, 3, (6, 7), 4, 5, 8, 9}\n"
          ],
          "name": "stdout"
        }
      ]
    },
    {
      "cell_type": "markdown",
      "metadata": {
        "id": "x3biTS-cY374",
        "colab_type": "text"
      },
      "source": [
        "# UPDATE A SET"
      ]
    },
    {
      "cell_type": "code",
      "metadata": {
        "id": "QGo9__MIYzXO",
        "colab_type": "code",
        "colab": {
          "base_uri": "https://localhost:8080/",
          "height": 70
        },
        "outputId": "a5e2cdac-8b27-4c19-da4e-7ed68eb17e4c"
      },
      "source": [
        "# Python program to demonstrate \n",
        "# Addition of elements in a Set \n",
        "\n",
        "# Addition of elements to the Set \n",
        "# using Update function \n",
        "set1 = set([ 4, 5, (6, 7)]) \n",
        "set1.update([10, 11]) \n",
        "print(\"\\nSet after Addition of elements using Update: \") \n",
        "print(set1) \n"
      ],
      "execution_count": 4,
      "outputs": [
        {
          "output_type": "stream",
          "text": [
            "\n",
            "Set after Addition of elements using Update: \n",
            "{4, 5, (6, 7), 10, 11}\n"
          ],
          "name": "stdout"
        }
      ]
    },
    {
      "cell_type": "markdown",
      "metadata": {
        "id": "EU8wWR3YY-87",
        "colab_type": "text"
      },
      "source": [
        "# ACCESSING SET ELEMENTS"
      ]
    },
    {
      "cell_type": "code",
      "metadata": {
        "id": "Czg9nPXdY5_h",
        "colab_type": "code",
        "colab": {
          "base_uri": "https://localhost:8080/",
          "height": 122
        },
        "outputId": "b0879aec-db5a-4342-a381-41462c4f8984"
      },
      "source": [
        "# Python program to demonstrate \n",
        "# Accessing of elements in a set \n",
        "\n",
        "# Creating a set \n",
        "set1 = set([\"Geeks\", \"For\", \"Geeks\"]) \n",
        "print(\"\\nInitial set\") \n",
        "print(set1) \n",
        "\n",
        "# Accessing element using \n",
        "# for loop \n",
        "print(\"\\nElements of set: \") \n",
        "for i in set1: \n",
        "\tprint(i, end=\" \") \n",
        "\n",
        "# Checking the element \n",
        "# using in keyword \n",
        "print(\"Geeks\" in set1) \n"
      ],
      "execution_count": 5,
      "outputs": [
        {
          "output_type": "stream",
          "text": [
            "\n",
            "Initial set\n",
            "{'For', 'Geeks'}\n",
            "\n",
            "Elements of set: \n",
            "For Geeks True\n"
          ],
          "name": "stdout"
        }
      ]
    },
    {
      "cell_type": "markdown",
      "metadata": {
        "id": "reVQQgzCZEUE",
        "colab_type": "text"
      },
      "source": [
        "# REMOVING SET ELEMENTS"
      ]
    },
    {
      "cell_type": "code",
      "metadata": {
        "id": "uAN_pjDYZBE1",
        "colab_type": "code",
        "colab": {
          "base_uri": "https://localhost:8080/",
          "height": 210
        },
        "outputId": "ceaf0c42-9eec-4691-fc42-48c4d5a2aafe"
      },
      "source": [
        "# Python program to demonstrate \n",
        "# Deletion of elements in a Set \n",
        "\n",
        "# Creating a Set \n",
        "set1 = set([1, 2, 3, 4, 5, 6, \n",
        "\t\t\t7, 8, 9, 10, 11, 12]) \n",
        "print(\"Intial Set: \") \n",
        "print(set1) \n",
        "\n",
        "# Removing elements from Set \n",
        "# using Remove() method \n",
        "set1.remove(5) \n",
        "set1.remove(6) \n",
        "print(\"\\nSet after Removal of two elements: \") \n",
        "print(set1) \n",
        "\n",
        "# Removing elements from Set \n",
        "# using Discard() method \n",
        "set1.discard(8) \n",
        "set1.discard(9) \n",
        "print(\"\\nSet after Discarding two elements: \") \n",
        "print(set1) \n",
        "\n",
        "# Removing elements from Set \n",
        "# using iterator method \n",
        "for i in range(1, 5): \n",
        "\tset1.remove(i) \n",
        "print(\"\\nSet after Removing a range of elements: \") \n",
        "print(set1) \n"
      ],
      "execution_count": 6,
      "outputs": [
        {
          "output_type": "stream",
          "text": [
            "Intial Set: \n",
            "{1, 2, 3, 4, 5, 6, 7, 8, 9, 10, 11, 12}\n",
            "\n",
            "Set after Removal of two elements: \n",
            "{1, 2, 3, 4, 7, 8, 9, 10, 11, 12}\n",
            "\n",
            "Set after Discarding two elements: \n",
            "{1, 2, 3, 4, 7, 10, 11, 12}\n",
            "\n",
            "Set after Removing a range of elements: \n",
            "{7, 10, 11, 12}\n"
          ],
          "name": "stdout"
        }
      ]
    },
    {
      "cell_type": "markdown",
      "metadata": {
        "id": "zL3L0JBcZHLf",
        "colab_type": "text"
      },
      "source": [
        "# REMOVE BY POPPPING"
      ]
    },
    {
      "cell_type": "code",
      "metadata": {
        "id": "3-_lanYsZGGq",
        "colab_type": "code",
        "colab": {
          "base_uri": "https://localhost:8080/",
          "height": 105
        },
        "outputId": "038fe42c-15b7-4997-f3e7-31b8d46897f3"
      },
      "source": [
        "# Python program to demonstrate \n",
        "# Deletion of elements in a Set \n",
        "\n",
        "# Creating a Set \n",
        "set1 = set([1, 2, 3, 4, 5, 6, \n",
        "\t\t\t7, 8, 9, 10, 11, 12]) \n",
        "print(\"Intial Set: \") \n",
        "print(set1) \n",
        "\n",
        "# Removing element from the \n",
        "# Set using the pop() method \n",
        "set1.pop() \n",
        "print(\"\\nSet after popping an element: \") \n",
        "print(set1) \n"
      ],
      "execution_count": 7,
      "outputs": [
        {
          "output_type": "stream",
          "text": [
            "Intial Set: \n",
            "{1, 2, 3, 4, 5, 6, 7, 8, 9, 10, 11, 12}\n",
            "\n",
            "Set after popping an element: \n",
            "{2, 3, 4, 5, 6, 7, 8, 9, 10, 11, 12}\n"
          ],
          "name": "stdout"
        }
      ]
    },
    {
      "cell_type": "markdown",
      "metadata": {
        "id": "yPnS1B4bZZim",
        "colab_type": "text"
      },
      "source": [
        "# CLEAR SET"
      ]
    },
    {
      "cell_type": "code",
      "metadata": {
        "id": "f3mKV8gmZLXI",
        "colab_type": "code",
        "colab": {
          "base_uri": "https://localhost:8080/",
          "height": 122
        },
        "outputId": "4c4754ad-dcf3-4472-83ae-8f95d8ada8a7"
      },
      "source": [
        "#Creating a set \n",
        "set1 = set([1,2,3,4,5]) \n",
        "print(\"\\n Initial set: \") \n",
        "print(set1) \n",
        "\n",
        "\n",
        "# Removing all the elements from \n",
        "# Set using clear() method \n",
        "set1.clear() \n",
        "print(\"\\nSet after clearing all the elements: \") \n",
        "print(set1) "
      ],
      "execution_count": 9,
      "outputs": [
        {
          "output_type": "stream",
          "text": [
            "\n",
            " Initial set: \n",
            "{1, 2, 3, 4, 5}\n",
            "\n",
            "Set after clearing all the elements: \n",
            "set()\n"
          ],
          "name": "stdout"
        }
      ]
    },
    {
      "cell_type": "markdown",
      "metadata": {
        "id": "s3n8I0aZZg4z",
        "colab_type": "text"
      },
      "source": [
        "# FROZEN SET"
      ]
    },
    {
      "cell_type": "code",
      "metadata": {
        "id": "MGYtcFZBZXaj",
        "colab_type": "code",
        "colab": {
          "base_uri": "https://localhost:8080/",
          "height": 105
        },
        "outputId": "1d5939a6-0203-4336-cfce-09f774469a00"
      },
      "source": [
        "# Python program to demonstrate \n",
        "# working of a FrozenSet \n",
        "\n",
        "# Creating a Set \n",
        "String = ('G', 'e', 'e', 'k', 's', 'F', 'o', 'r') \n",
        "\n",
        "Fset1 = frozenset(String) \n",
        "print(\"The FrozenSet is: \") \n",
        "print(Fset1) \n",
        "\n",
        "# To print Empty Frozen Set \n",
        "# No parameter is passed \n",
        "print(\"\\nEmpty FrozenSet: \") \n",
        "print(frozenset()) \n"
      ],
      "execution_count": 10,
      "outputs": [
        {
          "output_type": "stream",
          "text": [
            "The FrozenSet is: \n",
            "frozenset({'F', 'k', 'r', 'e', 's', 'o', 'G'})\n",
            "\n",
            "Empty FrozenSet: \n",
            "frozenset()\n"
          ],
          "name": "stdout"
        }
      ]
    },
    {
      "cell_type": "code",
      "metadata": {
        "id": "tEzgUQiTZilB",
        "colab_type": "code",
        "colab": {}
      },
      "source": [
        ""
      ],
      "execution_count": null,
      "outputs": []
    }
  ]
}